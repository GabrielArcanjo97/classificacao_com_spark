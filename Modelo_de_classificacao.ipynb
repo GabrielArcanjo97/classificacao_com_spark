{
  "nbformat": 4,
  "nbformat_minor": 0,
  "metadata": {
    "colab": {
      "provenance": [],
      "authorship_tag": "ABX9TyNBw0Aga+rE31ZxqB5mGy/z",
      "include_colab_link": true
    },
    "kernelspec": {
      "name": "python3",
      "display_name": "Python 3"
    },
    "language_info": {
      "name": "python"
    }
  },
  "cells": [
    {
      "cell_type": "markdown",
      "metadata": {
        "id": "view-in-github",
        "colab_type": "text"
      },
      "source": [
        "<a href=\"https://colab.research.google.com/github/GabrielArcanjo97/classificacao_com_spark/blob/main/Modelo_de_classificacao.ipynb\" target=\"_parent\"><img src=\"https://colab.research.google.com/assets/colab-badge.svg\" alt=\"Open In Colab\"/></a>"
      ]
    },
    {
      "cell_type": "code",
      "execution_count": 1,
      "metadata": {
        "colab": {
          "base_uri": "https://localhost:8080/"
        },
        "id": "1kesMYVLTFyB",
        "outputId": "a64c27aa-6b21-487d-9094-0f7c08e66a11"
      },
      "outputs": [
        {
          "output_type": "stream",
          "name": "stdout",
          "text": [
            "Collecting pyspark\n",
            "  Downloading pyspark-3.5.0.tar.gz (316.9 MB)\n",
            "\u001b[2K     \u001b[90m━━━━━━━━━━━━━━━━━━━━━━━━━━━━━━━━━━━━━━━\u001b[0m \u001b[32m316.9/316.9 MB\u001b[0m \u001b[31m4.0 MB/s\u001b[0m eta \u001b[36m0:00:00\u001b[0m\n",
            "\u001b[?25h  Preparing metadata (setup.py) ... \u001b[?25l\u001b[?25hdone\n",
            "Requirement already satisfied: py4j==0.10.9.7 in /usr/local/lib/python3.10/dist-packages (from pyspark) (0.10.9.7)\n",
            "Building wheels for collected packages: pyspark\n",
            "  Building wheel for pyspark (setup.py) ... \u001b[?25l\u001b[?25hdone\n",
            "  Created wheel for pyspark: filename=pyspark-3.5.0-py2.py3-none-any.whl size=317425344 sha256=9a8959d9b267f91153cc4b2e0016e8aec11def2067476c0daf0dad1bf1e17036\n",
            "  Stored in directory: /root/.cache/pip/wheels/41/4e/10/c2cf2467f71c678cfc8a6b9ac9241e5e44a01940da8fbb17fc\n",
            "Successfully built pyspark\n",
            "Installing collected packages: pyspark\n",
            "Successfully installed pyspark-3.5.0\n"
          ]
        }
      ],
      "source": [
        "!pip install pyspark"
      ]
    },
    {
      "cell_type": "code",
      "source": [
        "from pyspark.sql import session\n",
        "\n",
        "spark = session.SparkSession.builder\\\n",
        "        .master('local[*]')\\\n",
        "        .appName('Classificação')\\\n",
        "        .getOrCreate()\n",
        "\n",
        "spark"
      ],
      "metadata": {
        "colab": {
          "base_uri": "https://localhost:8080/",
          "height": 219
        },
        "id": "Dj1Pit7qTIGQ",
        "outputId": "de95b556-847a-49fd-c055-9dd93994df9b"
      },
      "execution_count": 2,
      "outputs": [
        {
          "output_type": "execute_result",
          "data": {
            "text/plain": [
              "<pyspark.sql.session.SparkSession at 0x780e2f3c7100>"
            ],
            "text/html": [
              "\n",
              "            <div>\n",
              "                <p><b>SparkSession - in-memory</b></p>\n",
              "                \n",
              "        <div>\n",
              "            <p><b>SparkContext</b></p>\n",
              "\n",
              "            <p><a href=\"http://4e00cad9f48a:4040\">Spark UI</a></p>\n",
              "\n",
              "            <dl>\n",
              "              <dt>Version</dt>\n",
              "                <dd><code>v3.5.0</code></dd>\n",
              "              <dt>Master</dt>\n",
              "                <dd><code>local[*]</code></dd>\n",
              "              <dt>AppName</dt>\n",
              "                <dd><code>Classificação</code></dd>\n",
              "            </dl>\n",
              "        </div>\n",
              "        \n",
              "            </div>\n",
              "        "
            ]
          },
          "metadata": {},
          "execution_count": 2
        }
      ]
    },
    {
      "cell_type": "code",
      "source": [
        "from google.colab import drive\n",
        "\n",
        "drive.mount('/content/drive')"
      ],
      "metadata": {
        "colab": {
          "base_uri": "https://localhost:8080/"
        },
        "id": "NQoca0u7TWoW",
        "outputId": "e3d5525a-2ef7-4782-9a37-449c6c1ef56a"
      },
      "execution_count": 3,
      "outputs": [
        {
          "output_type": "stream",
          "name": "stdout",
          "text": [
            "Mounted at /content/drive\n"
          ]
        }
      ]
    },
    {
      "cell_type": "markdown",
      "source": [
        "**Importando os Dados**"
      ],
      "metadata": {
        "id": "QFgdqHPDUuUs"
      }
    },
    {
      "cell_type": "code",
      "source": [
        "dados = spark.read.csv('/content/drive/MyDrive/Alura/BIG DATA/Spark: criando modelos de classificação/base de dados/base de dados', header=True, inferSchema=True)"
      ],
      "metadata": {
        "id": "eAbc_X3QTa60"
      },
      "execution_count": 18,
      "outputs": []
    },
    {
      "cell_type": "code",
      "source": [
        "dados.show()"
      ],
      "metadata": {
        "colab": {
          "base_uri": "https://localhost:8080/"
        },
        "id": "7QNYMOK5UBLS",
        "outputId": "45df0598-1a9e-48da-9a94-6b184b487c4d"
      },
      "execution_count": 19,
      "outputs": [
        {
          "output_type": "stream",
          "name": "stdout",
          "text": [
            "+---+-----+----------+-------+-----------+---------------+------------+------------------------+-----------+------------------+------------------+------------------+------------------+------------------+------------------+------------+------------+----------------+-------------+\n",
            "| id|Churn|Mais65anos|Conjuge|Dependentes|MesesDeContrato|TelefoneFixo|MaisDeUmaLinhaTelefonica|   Internet|   SegurancaOnline|      BackupOnline| SeguroDispositivo|    SuporteTecnico|           TVaCabo|   StreamingFilmes|TipoContrato|ContaCorreio| MetodoPagamento|MesesCobrados|\n",
            "+---+-----+----------+-------+-----------+---------------+------------+------------------------+-----------+------------------+------------------+------------------+------------------+------------------+------------------+------------+------------+----------------+-------------+\n",
            "|  0|  Nao|         0|    Sim|        Nao|              1|         Nao|    SemServicoTelefonico|        DSL|               Nao|               Sim|               Nao|               Nao|               Nao|               Nao| Mensalmente|         Sim|BoletoEletronico|        29.85|\n",
            "|  1|  Nao|         0|    Nao|        Nao|             34|         Sim|                     Nao|        DSL|               Sim|               Nao|               Sim|               Nao|               Nao|               Nao|       UmAno|         Nao|          Boleto|        56.95|\n",
            "|  2|  Sim|         0|    Nao|        Nao|              2|         Sim|                     Nao|        DSL|               Sim|               Sim|               Nao|               Nao|               Nao|               Nao| Mensalmente|         Sim|          Boleto|        53.85|\n",
            "|  3|  Nao|         0|    Nao|        Nao|             45|         Nao|    SemServicoTelefonico|        DSL|               Sim|               Nao|               Sim|               Sim|               Nao|               Nao|       UmAno|         Nao|   DebitoEmConta|         42.3|\n",
            "|  4|  Sim|         0|    Nao|        Nao|              2|         Sim|                     Nao|FibraOptica|               Nao|               Nao|               Nao|               Nao|               Nao|               Nao| Mensalmente|         Sim|BoletoEletronico|         70.7|\n",
            "|  5|  Sim|         0|    Nao|        Nao|              8|         Sim|                     Sim|FibraOptica|               Nao|               Nao|               Sim|               Nao|               Sim|               Sim| Mensalmente|         Sim|BoletoEletronico|        99.65|\n",
            "|  6|  Nao|         0|    Nao|        Sim|             22|         Sim|                     Sim|FibraOptica|               Nao|               Sim|               Nao|               Nao|               Sim|               Nao| Mensalmente|         Sim|   CartaoCredito|         89.1|\n",
            "|  7|  Nao|         0|    Nao|        Nao|             10|         Nao|    SemServicoTelefonico|        DSL|               Sim|               Nao|               Nao|               Nao|               Nao|               Nao| Mensalmente|         Nao|          Boleto|        29.75|\n",
            "|  8|  Sim|         0|    Sim|        Nao|             28|         Sim|                     Sim|FibraOptica|               Nao|               Nao|               Sim|               Sim|               Sim|               Sim| Mensalmente|         Sim|BoletoEletronico|        104.8|\n",
            "|  9|  Nao|         0|    Nao|        Sim|             62|         Sim|                     Nao|        DSL|               Sim|               Sim|               Nao|               Nao|               Nao|               Nao|       UmAno|         Nao|   DebitoEmConta|        56.15|\n",
            "| 10|  Nao|         0|    Sim|        Sim|             13|         Sim|                     Nao|        DSL|               Sim|               Nao|               Nao|               Nao|               Nao|               Nao| Mensalmente|         Sim|          Boleto|        49.95|\n",
            "| 11|  Nao|         0|    Nao|        Nao|             16|         Sim|                     Nao|        Nao|SemServicoInternet|SemServicoInternet|SemServicoInternet|SemServicoInternet|SemServicoInternet|SemServicoInternet|    DoisAnos|         Nao|   CartaoCredito|        18.95|\n",
            "| 12|  Nao|         0|    Sim|        Nao|             58|         Sim|                     Sim|FibraOptica|               Nao|               Nao|               Sim|               Nao|               Sim|               Sim|       UmAno|         Nao|   CartaoCredito|       100.35|\n",
            "| 13|  Sim|         0|    Nao|        Nao|             49|         Sim|                     Sim|FibraOptica|               Nao|               Sim|               Sim|               Nao|               Sim|               Sim| Mensalmente|         Sim|   DebitoEmConta|        103.7|\n",
            "| 14|  Nao|         0|    Nao|        Nao|             25|         Sim|                     Nao|FibraOptica|               Sim|               Nao|               Sim|               Sim|               Sim|               Sim| Mensalmente|         Sim|BoletoEletronico|        105.5|\n",
            "| 15|  Nao|         0|    Sim|        Sim|             69|         Sim|                     Sim|FibraOptica|               Sim|               Sim|               Sim|               Sim|               Sim|               Sim|    DoisAnos|         Nao|   CartaoCredito|       113.25|\n",
            "| 16|  Nao|         0|    Nao|        Nao|             52|         Sim|                     Nao|        Nao|SemServicoInternet|SemServicoInternet|SemServicoInternet|SemServicoInternet|SemServicoInternet|SemServicoInternet|       UmAno|         Nao|          Boleto|        20.65|\n",
            "| 17|  Nao|         0|    Nao|        Sim|             71|         Sim|                     Sim|FibraOptica|               Sim|               Nao|               Sim|               Nao|               Sim|               Sim|    DoisAnos|         Nao|   DebitoEmConta|        106.7|\n",
            "| 18|  Sim|         0|    Sim|        Sim|             10|         Sim|                     Nao|        DSL|               Nao|               Nao|               Sim|               Sim|               Nao|               Nao| Mensalmente|         Nao|   CartaoCredito|         55.2|\n",
            "| 19|  Nao|         0|    Nao|        Nao|             21|         Sim|                     Nao|FibraOptica|               Nao|               Sim|               Sim|               Nao|               Nao|               Sim| Mensalmente|         Sim|BoletoEletronico|        90.05|\n",
            "+---+-----+----------+-------+-----------+---------------+------------+------------------------+-----------+------------------+------------------+------------------+------------------+------------------+------------------+------------+------------+----------------+-------------+\n",
            "only showing top 20 rows\n",
            "\n"
          ]
        }
      ]
    },
    {
      "cell_type": "code",
      "source": [
        "dados.printSchema()"
      ],
      "metadata": {
        "colab": {
          "base_uri": "https://localhost:8080/"
        },
        "id": "L33fPdsaUDWw",
        "outputId": "f2e34e1e-fdfb-47fb-a515-a38d69ab93dc"
      },
      "execution_count": 20,
      "outputs": [
        {
          "output_type": "stream",
          "name": "stdout",
          "text": [
            "root\n",
            " |-- id: integer (nullable = true)\n",
            " |-- Churn: string (nullable = true)\n",
            " |-- Mais65anos: integer (nullable = true)\n",
            " |-- Conjuge: string (nullable = true)\n",
            " |-- Dependentes: string (nullable = true)\n",
            " |-- MesesDeContrato: integer (nullable = true)\n",
            " |-- TelefoneFixo: string (nullable = true)\n",
            " |-- MaisDeUmaLinhaTelefonica: string (nullable = true)\n",
            " |-- Internet: string (nullable = true)\n",
            " |-- SegurancaOnline: string (nullable = true)\n",
            " |-- BackupOnline: string (nullable = true)\n",
            " |-- SeguroDispositivo: string (nullable = true)\n",
            " |-- SuporteTecnico: string (nullable = true)\n",
            " |-- TVaCabo: string (nullable = true)\n",
            " |-- StreamingFilmes: string (nullable = true)\n",
            " |-- TipoContrato: string (nullable = true)\n",
            " |-- ContaCorreio: string (nullable = true)\n",
            " |-- MetodoPagamento: string (nullable = true)\n",
            " |-- MesesCobrados: double (nullable = true)\n",
            "\n"
          ]
        }
      ]
    },
    {
      "cell_type": "markdown",
      "source": [
        "**Transformando colunas string em Binárias**"
      ],
      "metadata": {
        "id": "20bm0Y8jU5M0"
      }
    },
    {
      "cell_type": "code",
      "source": [
        "colunas_binarias = [\n",
        "    'Churn',\n",
        "    'Conjuge',\n",
        "    'Dependentes',\n",
        "    'TelefoneFixo',\n",
        "    'MaisDeUmaLinhaTelefonica',\n",
        "    'SegurancaOnline',\n",
        "    'BackupOnline',\n",
        "    'SeguroDispositivo',\n",
        "    'SuporteTecnico',\n",
        "    'TVaCabo',\n",
        "    'StreamingFilmes',\n",
        "    'ContaCorreio'\n",
        "]"
      ],
      "metadata": {
        "id": "gaEELbHoUE6A"
      },
      "execution_count": 21,
      "outputs": []
    },
    {
      "cell_type": "code",
      "source": [
        "from pyspark.sql import functions as f"
      ],
      "metadata": {
        "id": "6qc0sMKjUqsa"
      },
      "execution_count": 22,
      "outputs": []
    },
    {
      "cell_type": "code",
      "source": [
        "todas_as_colunas = [f.when(f.col(c)=='Sim',1).otherwise(0).alias(c) for c in colunas_binarias]"
      ],
      "metadata": {
        "id": "XoSBsR5fU-Yj"
      },
      "execution_count": 23,
      "outputs": []
    },
    {
      "cell_type": "code",
      "source": [
        "for colunas in reversed(dados.columns):\n",
        "  if colunas not in colunas_binarias:\n",
        "    todas_as_colunas.insert(0,colunas)"
      ],
      "metadata": {
        "id": "H0_TCmWhVMuw"
      },
      "execution_count": 24,
      "outputs": []
    },
    {
      "cell_type": "code",
      "source": [
        "dataset = dados.select(todas_as_colunas)"
      ],
      "metadata": {
        "id": "ktEtzslMVbGg"
      },
      "execution_count": 25,
      "outputs": []
    },
    {
      "cell_type": "code",
      "source": [
        "dataset.show()"
      ],
      "metadata": {
        "colab": {
          "base_uri": "https://localhost:8080/"
        },
        "id": "KnNVVE6dVfNu",
        "outputId": "4d92c03f-58db-4a68-e294-d6170fd2f942"
      },
      "execution_count": 26,
      "outputs": [
        {
          "output_type": "stream",
          "name": "stdout",
          "text": [
            "+---+----------+---------------+-----------+------------+----------------+-------------+-----+-------+-----------+------------+------------------------+---------------+------------+-----------------+--------------+-------+---------------+------------+\n",
            "| id|Mais65anos|MesesDeContrato|   Internet|TipoContrato| MetodoPagamento|MesesCobrados|Churn|Conjuge|Dependentes|TelefoneFixo|MaisDeUmaLinhaTelefonica|SegurancaOnline|BackupOnline|SeguroDispositivo|SuporteTecnico|TVaCabo|StreamingFilmes|ContaCorreio|\n",
            "+---+----------+---------------+-----------+------------+----------------+-------------+-----+-------+-----------+------------+------------------------+---------------+------------+-----------------+--------------+-------+---------------+------------+\n",
            "|  0|         0|              1|        DSL| Mensalmente|BoletoEletronico|        29.85|    0|      1|          0|           0|                       0|              0|           1|                0|             0|      0|              0|           1|\n",
            "|  1|         0|             34|        DSL|       UmAno|          Boleto|        56.95|    0|      0|          0|           1|                       0|              1|           0|                1|             0|      0|              0|           0|\n",
            "|  2|         0|              2|        DSL| Mensalmente|          Boleto|        53.85|    1|      0|          0|           1|                       0|              1|           1|                0|             0|      0|              0|           1|\n",
            "|  3|         0|             45|        DSL|       UmAno|   DebitoEmConta|         42.3|    0|      0|          0|           0|                       0|              1|           0|                1|             1|      0|              0|           0|\n",
            "|  4|         0|              2|FibraOptica| Mensalmente|BoletoEletronico|         70.7|    1|      0|          0|           1|                       0|              0|           0|                0|             0|      0|              0|           1|\n",
            "|  5|         0|              8|FibraOptica| Mensalmente|BoletoEletronico|        99.65|    1|      0|          0|           1|                       1|              0|           0|                1|             0|      1|              1|           1|\n",
            "|  6|         0|             22|FibraOptica| Mensalmente|   CartaoCredito|         89.1|    0|      0|          1|           1|                       1|              0|           1|                0|             0|      1|              0|           1|\n",
            "|  7|         0|             10|        DSL| Mensalmente|          Boleto|        29.75|    0|      0|          0|           0|                       0|              1|           0|                0|             0|      0|              0|           0|\n",
            "|  8|         0|             28|FibraOptica| Mensalmente|BoletoEletronico|        104.8|    1|      1|          0|           1|                       1|              0|           0|                1|             1|      1|              1|           1|\n",
            "|  9|         0|             62|        DSL|       UmAno|   DebitoEmConta|        56.15|    0|      0|          1|           1|                       0|              1|           1|                0|             0|      0|              0|           0|\n",
            "| 10|         0|             13|        DSL| Mensalmente|          Boleto|        49.95|    0|      1|          1|           1|                       0|              1|           0|                0|             0|      0|              0|           1|\n",
            "| 11|         0|             16|        Nao|    DoisAnos|   CartaoCredito|        18.95|    0|      0|          0|           1|                       0|              0|           0|                0|             0|      0|              0|           0|\n",
            "| 12|         0|             58|FibraOptica|       UmAno|   CartaoCredito|       100.35|    0|      1|          0|           1|                       1|              0|           0|                1|             0|      1|              1|           0|\n",
            "| 13|         0|             49|FibraOptica| Mensalmente|   DebitoEmConta|        103.7|    1|      0|          0|           1|                       1|              0|           1|                1|             0|      1|              1|           1|\n",
            "| 14|         0|             25|FibraOptica| Mensalmente|BoletoEletronico|        105.5|    0|      0|          0|           1|                       0|              1|           0|                1|             1|      1|              1|           1|\n",
            "| 15|         0|             69|FibraOptica|    DoisAnos|   CartaoCredito|       113.25|    0|      1|          1|           1|                       1|              1|           1|                1|             1|      1|              1|           0|\n",
            "| 16|         0|             52|        Nao|       UmAno|          Boleto|        20.65|    0|      0|          0|           1|                       0|              0|           0|                0|             0|      0|              0|           0|\n",
            "| 17|         0|             71|FibraOptica|    DoisAnos|   DebitoEmConta|        106.7|    0|      0|          1|           1|                       1|              1|           0|                1|             0|      1|              1|           0|\n",
            "| 18|         0|             10|        DSL| Mensalmente|   CartaoCredito|         55.2|    1|      1|          1|           1|                       0|              0|           0|                1|             1|      0|              0|           0|\n",
            "| 19|         0|             21|FibraOptica| Mensalmente|BoletoEletronico|        90.05|    0|      0|          0|           1|                       0|              0|           1|                1|             0|      0|              1|           1|\n",
            "+---+----------+---------------+-----------+------------+----------------+-------------+-----+-------+-----------+------------+------------------------+---------------+------------+-----------------+--------------+-------+---------------+------------+\n",
            "only showing top 20 rows\n",
            "\n"
          ]
        }
      ]
    },
    {
      "cell_type": "markdown",
      "source": [
        "**Utilizando dummies para transformação das colunas restantes**"
      ],
      "metadata": {
        "id": "wuDrvGQRVkI2"
      }
    },
    {
      "cell_type": "code",
      "source": [
        "Internet = dataset.groupby('id').pivot('Internet').agg(f.lit(1)).na.fill(0)\n",
        "TipoContrato = dataset.groupby('id').pivot('TipoContrato').agg(f.lit(1)).na.fill(0)\n",
        "MetodoPagamento = dataset.groupby('id').pivot('MetodoPagamento').agg(f.lit(1)).na.fill(0)"
      ],
      "metadata": {
        "id": "7LGOm2u5Visf"
      },
      "execution_count": 27,
      "outputs": []
    },
    {
      "cell_type": "markdown",
      "source": [
        "**Juntando colunas criadas com o dataset**"
      ],
      "metadata": {
        "id": "zeXAZSf-XqNm"
      }
    },
    {
      "cell_type": "code",
      "source": [
        "MetodoPagamento.show(3)"
      ],
      "metadata": {
        "colab": {
          "base_uri": "https://localhost:8080/"
        },
        "id": "sb0Nn6yaXmCG",
        "outputId": "a78f2ac1-42b3-4f94-f983-8d8ff7350535"
      },
      "execution_count": 28,
      "outputs": [
        {
          "output_type": "stream",
          "name": "stdout",
          "text": [
            "+----+------+----------------+-------------+-------------+\n",
            "|  id|Boleto|BoletoEletronico|CartaoCredito|DebitoEmConta|\n",
            "+----+------+----------------+-------------+-------------+\n",
            "|3997|     0|               0|            1|            0|\n",
            "|7554|     0|               1|            0|            0|\n",
            "|6336|     0|               1|            0|            0|\n",
            "+----+------+----------------+-------------+-------------+\n",
            "only showing top 3 rows\n",
            "\n"
          ]
        }
      ]
    },
    {
      "cell_type": "code",
      "source": [
        "dataset = dataset\\\n",
        "    .join(Internet, 'id', how='inner')\\\n",
        "    .join(TipoContrato, 'id', how='inner')\\\n",
        "    .join(MetodoPagamento, 'id', how='inner')\\\n",
        "    .select(\n",
        "        '*',\n",
        "        f.col('DSL').alias('Internet_DSL'),\n",
        "        f.col('FibraOptica').alias('Internet_FibraOptica'),\n",
        "        f.col('Nao').alias('Internet_Nao'),\n",
        "        f.col('DoisAnos').alias('TipoContrato_DoisAnos'),\n",
        "        f.col('Mensalmente').alias('TipoContrato_Mensalmente'),\n",
        "        f.col('UmAno').alias('TipoContrato_UmAno'),\n",
        "        f.col('Boleto').alias('MetodoPagamento_Boleto'),\n",
        "        f.col('BoletoEletronico').alias('MetodoPagamento_BoletoEletronico'),\n",
        "        f.col('CartaoCredito').alias('MetodoPagamento_CartaoCredito'),\n",
        "        f.col('DebitoEmConta').alias('MetodoPagamento_DebitoEmConta')\n",
        "    ).drop(\n",
        "        'DSL','FibraOptica','Nao','DoisAnos','Mensalmente','UmAno','Boleto',\n",
        "        'BoletoEletronico','CartaoCredito','DebitoEmConta','Internet','TipoContrato',\n",
        "        'MetodoPagamento'\n",
        "    )"
      ],
      "metadata": {
        "id": "hmcSikMLXNpu"
      },
      "execution_count": 29,
      "outputs": []
    },
    {
      "cell_type": "code",
      "source": [
        "dataset.show()"
      ],
      "metadata": {
        "colab": {
          "base_uri": "https://localhost:8080/"
        },
        "id": "z9UduIUJZSsL",
        "outputId": "1940ddfa-5f55-49e6-f68e-ac869d4ad71c"
      },
      "execution_count": 30,
      "outputs": [
        {
          "output_type": "stream",
          "name": "stdout",
          "text": [
            "+----+----------+---------------+-----------------+-----+-------+-----------+------------+------------------------+---------------+------------+-----------------+--------------+-------+---------------+------------+------------+--------------------+------------+---------------------+------------------------+------------------+----------------------+--------------------------------+-----------------------------+-----------------------------+\n",
            "|  id|Mais65anos|MesesDeContrato|    MesesCobrados|Churn|Conjuge|Dependentes|TelefoneFixo|MaisDeUmaLinhaTelefonica|SegurancaOnline|BackupOnline|SeguroDispositivo|SuporteTecnico|TVaCabo|StreamingFilmes|ContaCorreio|Internet_DSL|Internet_FibraOptica|Internet_Nao|TipoContrato_DoisAnos|TipoContrato_Mensalmente|TipoContrato_UmAno|MetodoPagamento_Boleto|MetodoPagamento_BoletoEletronico|MetodoPagamento_CartaoCredito|MetodoPagamento_DebitoEmConta|\n",
            "+----+----------+---------------+-----------------+-----+-------+-----------+------------+------------------------+---------------+------------+-----------------+--------------+-------+---------------+------------+------------+--------------------+------------+---------------------+------------------------+------------------+----------------------+--------------------------------+-----------------------------+-----------------------------+\n",
            "|7982|         0|              1|45.30540797610398|    1|      0|          0|           0|                       0|              0|           0|                0|             0|      1|              1|           1|           1|                   0|           0|                    0|                       1|                 0|                     0|                               1|                            0|                            0|\n",
            "|9465|         0|             60|103.6142230120257|    1|      1|          0|           1|                       1|              0|           1|                1|             0|      1|              1|           1|           0|                   1|           0|                    0|                       1|                 0|                     0|                               1|                            0|                            0|\n",
            "|2122|         0|             12|            75.85|    0|      0|          0|           1|                       1|              0|           0|                0|             1|      1|              1|           1|           1|                   0|           0|                    0|                       0|                 1|                     1|                               0|                            0|                            0|\n",
            "|3997|         0|             69|            61.45|    0|      1|          0|           1|                       0|              0|           1|                0|             0|      0|              1|           1|           1|                   0|           0|                    1|                       0|                 0|                     0|                               0|                            1|                            0|\n",
            "|6654|         0|              7|             86.5|    1|      1|          0|           1|                       1|              0|           0|                0|             0|      1|              0|           1|           0|                   1|           0|                    0|                       1|                 0|                     0|                               1|                            0|                            0|\n",
            "|7880|         0|             14|85.03742670311915|    1|      0|          0|           1|                       1|              0|           0|                0|             0|      0|              1|           1|           0|                   1|           0|                    0|                       1|                 0|                     0|                               1|                            0|                            0|\n",
            "|4519|         0|             57|            109.4|    0|      1|          0|           1|                       1|              0|           1|                1|             1|      1|              1|           1|           0|                   1|           0|                    0|                       0|                 1|                     0|                               0|                            0|                            1|\n",
            "|6466|         0|             18|            74.15|    0|      0|          0|           1|                       1|              0|           0|                0|             0|      0|              0|           0|           0|                   1|           0|                    0|                       1|                 0|                     1|                               0|                            0|                            0|\n",
            "| 496|         0|             28|             60.9|    0|      1|          0|           1|                       0|              1|           1|                0|             1|      0|              0|           0|           1|                   0|           0|                    0|                       1|                 0|                     1|                               0|                            0|                            0|\n",
            "|7833|         0|             46| 80.8824189403559|    1|      1|          0|           1|                       0|              0|           0|                0|             0|      0|              1|           1|           0|                   1|           0|                    0|                       1|                 0|                     0|                               1|                            0|                            0|\n",
            "|1591|         0|             17|             21.1|    0|      0|          0|           1|                       0|              0|           0|                0|             0|      0|              0|           0|           0|                   0|           1|                    0|                       1|                 0|                     0|                               0|                            1|                            0|\n",
            "|2866|         0|             12|             84.6|    0|      0|          0|           1|                       0|              0|           1|                0|             0|      0|              1|           1|           0|                   1|           0|                    0|                       1|                 0|                     0|                               1|                            0|                            0|\n",
            "|8592|         0|              5|82.71735660557214|    1|      1|          0|           1|                       1|              0|           0|                0|             0|      1|              0|           1|           0|                   1|           0|                    0|                       1|                 0|                     0|                               1|                            0|                            0|\n",
            "|1829|         0|              8|            74.85|    0|      0|          0|           1|                       1|              0|           0|                0|             0|      0|              0|           1|           0|                   1|           0|                    0|                       1|                 0|                     0|                               1|                            0|                            0|\n",
            "| 463|         0|              7|             99.8|    1|      0|          0|           1|                       1|              0|           1|                0|             0|      1|              1|           1|           0|                   1|           0|                    0|                       1|                 0|                     0|                               1|                            0|                            0|\n",
            "|4900|         1|             37|             85.7|    1|      1|          0|           1|                       1|              0|           0|                0|             0|      1|              0|           1|           0|                   1|           0|                    0|                       1|                 0|                     0|                               1|                            0|                            0|\n",
            "|4818|         1|             64|             80.3|    0|      1|          0|           1|                       0|              1|           0|                1|             0|      0|              0|           0|           0|                   1|           0|                    0|                       0|                 1|                     0|                               0|                            1|                            0|\n",
            "|7554|         0|              1|50.74303124820026|    1|      0|          0|           1|                       0|              0|           1|                0|             0|      0|              0|           0|           1|                   0|           0|                    0|                       1|                 0|                     0|                               1|                            0|                            0|\n",
            "|1342|         0|              8|             20.0|    0|      0|          0|           1|                       0|              0|           0|                0|             0|      0|              0|           0|           0|                   0|           1|                    1|                       0|                 0|                     1|                               0|                            0|                            0|\n",
            "|5300|         0|              1|            80.05|    1|      1|          1|           1|                       0|              0|           0|                0|             0|      1|              0|           1|           0|                   1|           0|                    0|                       1|                 0|                     1|                               0|                            0|                            0|\n",
            "+----+----------+---------------+-----------------+-----+-------+-----------+------------+------------------------+---------------+------------+-----------------+--------------+-------+---------------+------------+------------+--------------------+------------+---------------------+------------------------+------------------+----------------------+--------------------------------+-----------------------------+-----------------------------+\n",
            "only showing top 20 rows\n",
            "\n"
          ]
        }
      ]
    },
    {
      "cell_type": "markdown",
      "source": [
        "**Vetorizando os Dados**"
      ],
      "metadata": {
        "id": "YnsXMHIfZYsh"
      }
    },
    {
      "cell_type": "code",
      "source": [
        "from pyspark.ml.feature import VectorAssembler"
      ],
      "metadata": {
        "id": "fo_VZvi5ZboJ"
      },
      "execution_count": 31,
      "outputs": []
    },
    {
      "cell_type": "code",
      "source": [
        "dataset = dataset.withColumnRenamed('Churn','label')"
      ],
      "metadata": {
        "id": "mWXtqeo0ZgAV"
      },
      "execution_count": 33,
      "outputs": []
    },
    {
      "cell_type": "code",
      "source": [
        "X = dataset.columns\n",
        "X.remove('id'),\n",
        "X.remove('label')"
      ],
      "metadata": {
        "id": "ITQsxY0aZo3l"
      },
      "execution_count": 34,
      "outputs": []
    },
    {
      "cell_type": "code",
      "source": [
        "X"
      ],
      "metadata": {
        "colab": {
          "base_uri": "https://localhost:8080/"
        },
        "id": "ngquPpt-ZvAh",
        "outputId": "472b3be4-485e-475b-bca9-4641fb3530b0"
      },
      "execution_count": 35,
      "outputs": [
        {
          "output_type": "execute_result",
          "data": {
            "text/plain": [
              "['Mais65anos',\n",
              " 'MesesDeContrato',\n",
              " 'MesesCobrados',\n",
              " 'Conjuge',\n",
              " 'Dependentes',\n",
              " 'TelefoneFixo',\n",
              " 'MaisDeUmaLinhaTelefonica',\n",
              " 'SegurancaOnline',\n",
              " 'BackupOnline',\n",
              " 'SeguroDispositivo',\n",
              " 'SuporteTecnico',\n",
              " 'TVaCabo',\n",
              " 'StreamingFilmes',\n",
              " 'ContaCorreio',\n",
              " 'Internet_DSL',\n",
              " 'Internet_FibraOptica',\n",
              " 'Internet_Nao',\n",
              " 'TipoContrato_DoisAnos',\n",
              " 'TipoContrato_Mensalmente',\n",
              " 'TipoContrato_UmAno',\n",
              " 'MetodoPagamento_Boleto',\n",
              " 'MetodoPagamento_BoletoEletronico',\n",
              " 'MetodoPagamento_CartaoCredito',\n",
              " 'MetodoPagamento_DebitoEmConta']"
            ]
          },
          "metadata": {},
          "execution_count": 35
        }
      ]
    },
    {
      "cell_type": "code",
      "source": [
        "assembler = VectorAssembler(inputCols=X, outputCol='features')"
      ],
      "metadata": {
        "id": "LJvDP_kEZml1"
      },
      "execution_count": 36,
      "outputs": []
    },
    {
      "cell_type": "code",
      "source": [
        "dataset_prep = assembler.transform(dataset).select('features','label')"
      ],
      "metadata": {
        "id": "N8C-AC5nZ3ST"
      },
      "execution_count": 37,
      "outputs": []
    },
    {
      "cell_type": "code",
      "source": [
        "dataset_prep.show(truncate=False)"
      ],
      "metadata": {
        "colab": {
          "base_uri": "https://localhost:8080/"
        },
        "id": "KaWqFkLYZ9y9",
        "outputId": "19681bbd-005c-47f9-8a71-59645df096b9"
      },
      "execution_count": 39,
      "outputs": [
        {
          "output_type": "stream",
          "name": "stdout",
          "text": [
            "+-----------------------------------------------------------------------------------------------------------+-----+\n",
            "|features                                                                                                   |label|\n",
            "+-----------------------------------------------------------------------------------------------------------+-----+\n",
            "|(24,[1,2,11,12,13,14,18,21],[1.0,45.30540797610398,1.0,1.0,1.0,1.0,1.0,1.0])                               |1    |\n",
            "|(24,[1,2,3,5,6,8,9,11,12,13,15,18,21],[60.0,103.6142230120257,1.0,1.0,1.0,1.0,1.0,1.0,1.0,1.0,1.0,1.0,1.0])|1    |\n",
            "|(24,[1,2,5,6,10,11,12,13,14,19,20],[12.0,75.85,1.0,1.0,1.0,1.0,1.0,1.0,1.0,1.0,1.0])                       |0    |\n",
            "|(24,[1,2,3,5,8,12,13,14,17,22],[69.0,61.45,1.0,1.0,1.0,1.0,1.0,1.0,1.0,1.0])                               |0    |\n",
            "|(24,[1,2,3,5,6,11,13,15,18,21],[7.0,86.5,1.0,1.0,1.0,1.0,1.0,1.0,1.0,1.0])                                 |1    |\n",
            "|(24,[1,2,5,6,12,13,15,18,21],[14.0,85.03742670311915,1.0,1.0,1.0,1.0,1.0,1.0,1.0])                         |1    |\n",
            "|(24,[1,2,3,5,6,8,9,10,11,12,13,15,19,23],[57.0,109.4,1.0,1.0,1.0,1.0,1.0,1.0,1.0,1.0,1.0,1.0,1.0,1.0])     |0    |\n",
            "|(24,[1,2,5,6,15,18,20],[18.0,74.15,1.0,1.0,1.0,1.0,1.0])                                                   |0    |\n",
            "|(24,[1,2,3,5,7,8,10,14,18,20],[28.0,60.9,1.0,1.0,1.0,1.0,1.0,1.0,1.0,1.0])                                 |0    |\n",
            "|(24,[1,2,3,5,12,13,15,18,21],[46.0,80.8824189403559,1.0,1.0,1.0,1.0,1.0,1.0,1.0])                          |1    |\n",
            "|(24,[1,2,5,16,18,22],[17.0,21.1,1.0,1.0,1.0,1.0])                                                          |0    |\n",
            "|(24,[1,2,5,8,12,13,15,18,21],[12.0,84.6,1.0,1.0,1.0,1.0,1.0,1.0,1.0])                                      |0    |\n",
            "|(24,[1,2,3,5,6,11,13,15,18,21],[5.0,82.71735660557214,1.0,1.0,1.0,1.0,1.0,1.0,1.0,1.0])                    |1    |\n",
            "|(24,[1,2,5,6,13,15,18,21],[8.0,74.85,1.0,1.0,1.0,1.0,1.0,1.0])                                             |0    |\n",
            "|(24,[1,2,5,6,8,11,12,13,15,18,21],[7.0,99.8,1.0,1.0,1.0,1.0,1.0,1.0,1.0,1.0,1.0])                          |1    |\n",
            "|(24,[0,1,2,3,5,6,11,13,15,18,21],[1.0,37.0,85.7,1.0,1.0,1.0,1.0,1.0,1.0,1.0,1.0])                          |1    |\n",
            "|(24,[0,1,2,3,5,7,9,15,19,22],[1.0,64.0,80.3,1.0,1.0,1.0,1.0,1.0,1.0,1.0])                                  |0    |\n",
            "|(24,[1,2,5,8,14,18,21],[1.0,50.74303124820026,1.0,1.0,1.0,1.0,1.0])                                        |1    |\n",
            "|(24,[1,2,5,16,17,20],[8.0,20.0,1.0,1.0,1.0,1.0])                                                           |0    |\n",
            "|(24,[1,2,3,4,5,11,13,15,18,20],[1.0,80.05,1.0,1.0,1.0,1.0,1.0,1.0,1.0,1.0])                                |1    |\n",
            "+-----------------------------------------------------------------------------------------------------------+-----+\n",
            "only showing top 20 rows\n",
            "\n"
          ]
        }
      ]
    },
    {
      "cell_type": "code",
      "source": [],
      "metadata": {
        "id": "DNJ_fQeoaBaO"
      },
      "execution_count": null,
      "outputs": []
    },
    {
      "cell_type": "markdown",
      "source": [
        "#**Modelos de Classificação**\n",
        "\n",
        "Estarei utilizando três tipos de modelo de classificação, LogisticRegression, DecisionTreeClassifier e RandomForestClassifier"
      ],
      "metadata": {
        "id": "zC1rV5_raKLG"
      }
    },
    {
      "cell_type": "markdown",
      "source": [
        "**Separando dataset entre treino e teste**"
      ],
      "metadata": {
        "id": "CiVvo7OgbAgO"
      }
    },
    {
      "cell_type": "code",
      "source": [
        "treino, teste = dataset_prep.randomSplit([0.7, 0.3], seed=101)"
      ],
      "metadata": {
        "id": "YHD5iqidbFwU"
      },
      "execution_count": 41,
      "outputs": []
    },
    {
      "cell_type": "markdown",
      "source": [
        "##**Regressão Logística**"
      ],
      "metadata": {
        "id": "7ezBOXpYaS2L"
      }
    },
    {
      "cell_type": "code",
      "source": [
        "from pyspark.ml.classification import LogisticRegression"
      ],
      "metadata": {
        "id": "auEcdDNRaWtY"
      },
      "execution_count": 40,
      "outputs": []
    },
    {
      "cell_type": "code",
      "source": [
        "lr = LogisticRegression()"
      ],
      "metadata": {
        "id": "TmTOtPYOa8rn"
      },
      "execution_count": 43,
      "outputs": []
    },
    {
      "cell_type": "code",
      "source": [
        "modelo_lr = lr.fit(treino)"
      ],
      "metadata": {
        "id": "VnenFnV1bQBF"
      },
      "execution_count": 44,
      "outputs": []
    },
    {
      "cell_type": "code",
      "source": [
        "resumo_lr_treino = modelo_lr.transform(treino)"
      ],
      "metadata": {
        "id": "_MCRBXlEbTXU"
      },
      "execution_count": 45,
      "outputs": []
    },
    {
      "cell_type": "code",
      "source": [
        "resumo_lr_treino.show()"
      ],
      "metadata": {
        "colab": {
          "base_uri": "https://localhost:8080/"
        },
        "id": "BdGW1ieJbbRG",
        "outputId": "754275ed-652e-436c-ce7c-2143293d2b90"
      },
      "execution_count": 46,
      "outputs": [
        {
          "output_type": "stream",
          "name": "stdout",
          "text": [
            "+--------------------+-----+--------------------+--------------------+----------+\n",
            "|            features|label|       rawPrediction|         probability|prediction|\n",
            "+--------------------+-----+--------------------+--------------------+----------+\n",
            "|(24,[0,1,2,3,4,5,...|    0|[2.73984345620471...|[0.93933717698701...|       0.0|\n",
            "|(24,[0,1,2,3,4,5,...|    0|[3.12234923512770...|[0.95780527310256...|       0.0|\n",
            "|(24,[0,1,2,3,4,5,...|    0|[0.67500316482200...|[0.66262254467877...|       0.0|\n",
            "|(24,[0,1,2,3,4,5,...|    0|[1.00825714289874...|[0.73267893080852...|       0.0|\n",
            "|(24,[0,1,2,3,4,5,...|    0|[0.92173527128093...|[0.71539554720767...|       0.0|\n",
            "|(24,[0,1,2,3,4,5,...|    1|[-0.8138780856902...|[0.30706471540060...|       1.0|\n",
            "|(24,[0,1,2,3,4,5,...|    0|[0.76468935125143...|[0.68237097574113...|       0.0|\n",
            "|(24,[0,1,2,3,4,5,...|    1|[0.08473036380618...|[0.52116992714404...|       0.0|\n",
            "|(24,[0,1,2,3,4,5,...|    0|[0.58942102297452...|[0.64323229045600...|       0.0|\n",
            "|(24,[0,1,2,3,4,5,...|    0|[-0.9658582227312...|[0.27570681554306...|       1.0|\n",
            "|(24,[0,1,2,3,4,5,...|    0|[-0.4056542378160...|[0.39995460972869...|       1.0|\n",
            "|(24,[0,1,2,3,4,5,...|    0|[1.18199641761143...|[0.76530657507335...|       0.0|\n",
            "|(24,[0,1,2,3,4,5,...|    1|[0.75803525820697...|[0.68092701517265...|       0.0|\n",
            "|(24,[0,1,2,3,4,5,...|    0|[1.92279876106499...|[0.87245020696121...|       0.0|\n",
            "|(24,[0,1,2,3,4,5,...|    0|[0.80939553514783...|[0.69198068155042...|       0.0|\n",
            "|(24,[0,1,2,3,4,5,...|    0|[-1.4533400627393...|[0.18948805928633...|       1.0|\n",
            "|(24,[0,1,2,3,4,5,...|    0|[1.19473894029987...|[0.76758754833277...|       0.0|\n",
            "|(24,[0,1,2,3,4,5,...|    0|[-0.3862956496155...|[0.40460936479224...|       1.0|\n",
            "|(24,[0,1,2,3,4,5,...|    0|[4.46901490339629...|[0.98867121388860...|       0.0|\n",
            "|(24,[0,1,2,3,4,5,...|    0|[2.90885887373898...|[0.94828262925854...|       0.0|\n",
            "+--------------------+-----+--------------------+--------------------+----------+\n",
            "only showing top 20 rows\n",
            "\n"
          ]
        }
      ]
    },
    {
      "cell_type": "code",
      "source": [
        "resumo_lr_teste = modelo_lr.transform(teste)"
      ],
      "metadata": {
        "id": "a12rGiRxfGxe"
      },
      "execution_count": 56,
      "outputs": []
    },
    {
      "cell_type": "markdown",
      "source": [
        "**Ajustando Métricas de Treino**"
      ],
      "metadata": {
        "id": "kQyFeu_fbr67"
      }
    },
    {
      "cell_type": "code",
      "source": [
        "ajuste_lr_treino = modelo_lr.summary"
      ],
      "metadata": {
        "id": "Azz6Sy_5biXj"
      },
      "execution_count": 51,
      "outputs": []
    },
    {
      "cell_type": "code",
      "source": [
        "print('Acurácia: %f'% ajuste_lr_treino.accuracy)\n",
        "print('Precisão: %f'% ajuste_lr_treino.precisionByLabel[1])\n",
        "print('Recall: %f'% ajuste_lr_treino.recallByLabel[1])\n",
        "print('F1 Score: %f'% ajuste_lr_treino.fMeasureByLabel()[1])"
      ],
      "metadata": {
        "colab": {
          "base_uri": "https://localhost:8080/"
        },
        "id": "y2MinImDbxeD",
        "outputId": "7abfaa5e-7bbd-46bc-bd4d-1ba02fbab7bf"
      },
      "execution_count": 52,
      "outputs": [
        {
          "output_type": "stream",
          "name": "stdout",
          "text": [
            "Acurácia: 0.783791\n",
            "Precisão: 0.768162\n",
            "Recall: 0.812934\n",
            "F1 Score: 0.789914\n"
          ]
        }
      ]
    },
    {
      "cell_type": "markdown",
      "source": [
        "**Ajustando Métricas de Teste**"
      ],
      "metadata": {
        "id": "_EbztLRDcPlb"
      }
    },
    {
      "cell_type": "code",
      "source": [
        "ajuste_lr_teste = modelo_lr.evaluate(teste)"
      ],
      "metadata": {
        "id": "twg0AsldcGQR"
      },
      "execution_count": 53,
      "outputs": []
    },
    {
      "cell_type": "code",
      "source": [
        "print('Acurácia: %f'% ajuste_lr_teste.accuracy)\n",
        "print('Precisão: %f'% ajuste_lr_teste.precisionByLabel[1])\n",
        "print('Recall: %f'% ajuste_lr_teste.recallByLabel[1])\n",
        "print('F1 Score: %f'% ajuste_lr_teste.fMeasureByLabel()[1])"
      ],
      "metadata": {
        "colab": {
          "base_uri": "https://localhost:8080/"
        },
        "id": "q7fm4xJccatS",
        "outputId": "14ea7413-9f41-41cd-a1e1-4b139b863877"
      },
      "execution_count": 54,
      "outputs": [
        {
          "output_type": "stream",
          "name": "stdout",
          "text": [
            "Acurácia: 0.774984\n",
            "Precisão: 0.760870\n",
            "Recall: 0.802037\n",
            "F1 Score: 0.780911\n"
          ]
        }
      ]
    },
    {
      "cell_type": "markdown",
      "source": [
        "**Calculando Matriz de Confusão Treino e Teste**"
      ],
      "metadata": {
        "id": "Ji7OM2nTcj9p"
      }
    },
    {
      "cell_type": "code",
      "source": [
        "tp = resumo_lr_treino.select('label','prediction').where((f.col('label')==1)&(f.col('prediction')==1)).count()\n",
        "tn = resumo_lr_treino.select('label','prediction').where((f.col('label')==0)&(f.col('prediction')==0)).count()\n",
        "fp = resumo_lr_treino.select('label','prediction').where((f.col('label')==1)&(f.col('prediction')==0)).count()\n",
        "fn = resumo_lr_treino.select('label','prediction').where((f.col('label')==0)&(f.col('prediction')==1)).count()\n",
        "\n",
        "print(tp, tn, fp, fn)"
      ],
      "metadata": {
        "colab": {
          "base_uri": "https://localhost:8080/"
        },
        "id": "igNAGXAIbpQD",
        "outputId": "cd5b2249-f435-4770-ce5c-9d058361c346"
      },
      "execution_count": 55,
      "outputs": [
        {
          "output_type": "stream",
          "name": "stdout",
          "text": [
            "2929 2719 674 884\n"
          ]
        }
      ]
    },
    {
      "cell_type": "code",
      "source": [
        "tp1 = resumo_lr_teste.select('label','prediction').where((f.col('label')==1)&(f.col('prediction')==1)).count()\n",
        "tn1 = resumo_lr_teste.select('label','prediction').where((f.col('label')==0)&(f.col('prediction')==0)).count()\n",
        "fp1 = resumo_lr_teste.select('label','prediction').where((f.col('label')==1)&(f.col('prediction')==0)).count()\n",
        "fn1 = resumo_lr_teste.select('label','prediction').where((f.col('label')==0)&(f.col('prediction')==1)).count()\n",
        "\n",
        "print(tp1, tn1, fp1, fn1)"
      ],
      "metadata": {
        "colab": {
          "base_uri": "https://localhost:8080/"
        },
        "id": "3LvGPX4MZU2a",
        "outputId": "12728caf-a429-4d8e-f921-abad7c400fbb"
      },
      "execution_count": 57,
      "outputs": [
        {
          "output_type": "stream",
          "name": "stdout",
          "text": [
            "1260 1175 311 396\n"
          ]
        }
      ]
    },
    {
      "cell_type": "markdown",
      "source": [
        "**Função para melhor visualização das métricas e matriz de confusão**"
      ],
      "metadata": {
        "id": "Et0C7BWwfM82"
      }
    },
    {
      "cell_type": "code",
      "source": [
        "from pyspark.ml.evaluation import MulticlassClassificationEvaluator\n",
        "\n",
        "def comprar_metricas(lista_previsoes):\n",
        "  s = '\\n'\n",
        "\n",
        "  for modelo, df_transform_modelo in lista_previsoes.items():\n",
        "    s += '-' * 50 + '\\n'\n",
        "    s += modelo + '\\n'\n",
        "\n",
        "    # montando matriz de confusão\n",
        "\n",
        "    tp = df_transform_modelo.select('label', 'prediction').where((f.col('label') == 1) & (f.col('prediction') == 1)).count()\n",
        "    tn = df_transform_modelo.select('label', 'prediction').where((f.col('label') == 0) & (f.col('prediction') == 0)).count()\n",
        "    fp = df_transform_modelo.select('label', 'prediction').where((f.col('label') == 0) & (f.col('prediction') == 1)).count()\n",
        "    fn = df_transform_modelo.select('label', 'prediction').where((f.col('label') == 1) & (f.col('prediction') == 0)).count()\n",
        "\n",
        "    # adiciono os valores de cada métrica a minha string de retorno com MulticlassClassificationEvaluator\n",
        "    evaluator = MulticlassClassificationEvaluator()\n",
        "\n",
        "    s += f'Acurácia: {evaluator.evaluate(df_transform_modelo, {evaluator.metricName: \"accuracy\"})}\\n'\n",
        "    s += f'Precisão: {evaluator.evaluate(df_transform_modelo, {evaluator.metricName: \"precisionByLabel\", evaluator.metricLabel: 1})}\\n'\n",
        "    s += f'Recall: {evaluator.evaluate(df_transform_modelo, {evaluator.metricName: \"recallByLabel\", evaluator.metricLabel: 1})}\\n'\n",
        "    s += f'F1: {evaluator.evaluate(df_transform_modelo, {evaluator.metricName: \"fMeasureByLabel\", evaluator.metricLabel: 1})}\\n'\n",
        "    s += ' '*20 + 'Previsto\\n'\n",
        "    s += ' '*15 +  'Churn' + ' '*5 + 'Não-Churn\\n'\n",
        "    s += ' '*4 + 'Churn' + ' '*6 +  str(int(tp)) + ' '*7 + str(int(fn)) + '\\n'\n",
        "    s += 'Real\\n'\n",
        "    s += ' '*4 + 'Não-Churn' + ' '*2 + str(int(fp)) +  ' '*7 + str(int(tn))  + '\\n'\n",
        "    s += '\\n'\n",
        "\n",
        "  return s"
      ],
      "metadata": {
        "id": "xbCJcJsMa6j8"
      },
      "execution_count": 58,
      "outputs": []
    },
    {
      "cell_type": "markdown",
      "source": [
        "## **Árvore de Classificação**"
      ],
      "metadata": {
        "id": "iBiSUfxagl41"
      }
    },
    {
      "cell_type": "code",
      "source": [
        "from pyspark.ml.classification import DecisionTreeClassifier"
      ],
      "metadata": {
        "id": "nSj3bYVKgvlM"
      },
      "execution_count": 59,
      "outputs": []
    },
    {
      "cell_type": "code",
      "source": [
        "dtc = DecisionTreeClassifier(seed=101, maxDepth=7)"
      ],
      "metadata": {
        "id": "2IzzGuIlg0t8"
      },
      "execution_count": 60,
      "outputs": []
    },
    {
      "cell_type": "code",
      "source": [
        "modelo_dtc = dtc.fit(treino)"
      ],
      "metadata": {
        "id": "6D9f_LqQg7FS"
      },
      "execution_count": 62,
      "outputs": []
    },
    {
      "cell_type": "code",
      "source": [
        "ajuste_dtc_treino = modelo_dtc.transform(treino)"
      ],
      "metadata": {
        "id": "oLZkHZ1Gg99i"
      },
      "execution_count": 63,
      "outputs": []
    },
    {
      "cell_type": "code",
      "source": [
        "ajuste_dtc_treino.show()"
      ],
      "metadata": {
        "colab": {
          "base_uri": "https://localhost:8080/"
        },
        "id": "xdRa5NE_hXwR",
        "outputId": "58e85dbe-3112-4363-f10f-eada2896bf41"
      },
      "execution_count": 64,
      "outputs": [
        {
          "output_type": "stream",
          "name": "stdout",
          "text": [
            "+--------------------+-----+--------------+--------------------+----------+\n",
            "|            features|label| rawPrediction|         probability|prediction|\n",
            "+--------------------+-----+--------------+--------------------+----------+\n",
            "|(24,[0,1,2,3,4,5,...|    0|    [77.0,6.0]|[0.92771084337349...|       0.0|\n",
            "|(24,[0,1,2,3,4,5,...|    0|     [5.0,0.0]|           [1.0,0.0]|       0.0|\n",
            "|(24,[0,1,2,3,4,5,...|    0|    [12.0,0.0]|           [1.0,0.0]|       0.0|\n",
            "|(24,[0,1,2,3,4,5,...|    0|    [12.0,0.0]|           [1.0,0.0]|       0.0|\n",
            "|(24,[0,1,2,3,4,5,...|    0|    [12.0,0.0]|           [1.0,0.0]|       0.0|\n",
            "|(24,[0,1,2,3,4,5,...|    1|[234.0,1598.0]|[0.12772925764192...|       1.0|\n",
            "|(24,[0,1,2,3,4,5,...|    0| [148.0,171.0]|[0.46394984326018...|       1.0|\n",
            "|(24,[0,1,2,3,4,5,...|    1|[234.0,1598.0]|[0.12772925764192...|       1.0|\n",
            "|(24,[0,1,2,3,4,5,...|    0|[234.0,1598.0]|[0.12772925764192...|       1.0|\n",
            "|(24,[0,1,2,3,4,5,...|    0|[234.0,1598.0]|[0.12772925764192...|       1.0|\n",
            "|(24,[0,1,2,3,4,5,...|    0|[234.0,1598.0]|[0.12772925764192...|       1.0|\n",
            "|(24,[0,1,2,3,4,5,...|    0|   [61.0,24.0]|[0.71764705882352...|       0.0|\n",
            "|(24,[0,1,2,3,4,5,...|    1| [148.0,171.0]|[0.46394984326018...|       1.0|\n",
            "|(24,[0,1,2,3,4,5,...|    0|  [486.0,44.0]|[0.91698113207547...|       0.0|\n",
            "|(24,[0,1,2,3,4,5,...|    0| [148.0,171.0]|[0.46394984326018...|       1.0|\n",
            "|(24,[0,1,2,3,4,5,...|    0|[234.0,1598.0]|[0.12772925764192...|       1.0|\n",
            "|(24,[0,1,2,3,4,5,...|    0|  [486.0,44.0]|[0.91698113207547...|       0.0|\n",
            "|(24,[0,1,2,3,4,5,...|    0|  [33.0,125.0]|[0.20886075949367...|       1.0|\n",
            "|(24,[0,1,2,3,4,5,...|    0|  [815.0,21.0]|[0.97488038277511...|       0.0|\n",
            "|(24,[0,1,2,3,4,5,...|    0|   [74.0,14.0]|[0.84090909090909...|       0.0|\n",
            "+--------------------+-----+--------------+--------------------+----------+\n",
            "only showing top 20 rows\n",
            "\n"
          ]
        }
      ]
    },
    {
      "cell_type": "code",
      "source": [
        "ajuste_dtc_teste = modelo_dtc.transform(teste)"
      ],
      "metadata": {
        "id": "-GgqBjarhiWS"
      },
      "execution_count": 65,
      "outputs": []
    },
    {
      "cell_type": "markdown",
      "source": [
        "**Ajustando Métricas Manualmente**"
      ],
      "metadata": {
        "id": "nBsYsiwCiJPG"
      }
    },
    {
      "cell_type": "code",
      "source": [
        "from pyspark.ml.evaluation import MulticlassClassificationEvaluator"
      ],
      "metadata": {
        "id": "4IwdvxKWiMoD"
      },
      "execution_count": 72,
      "outputs": []
    },
    {
      "cell_type": "code",
      "source": [
        "evaluator = MulticlassClassificationEvaluator()"
      ],
      "metadata": {
        "id": "yG7JR70miZWQ"
      },
      "execution_count": 73,
      "outputs": []
    },
    {
      "cell_type": "code",
      "source": [
        "# Treino\n",
        "\n",
        "print('Acuracia: %f'% evaluator.evaluate(ajuste_dtc_treino, {evaluator.metricName:'accuracy'}))\n",
        "print('Precisão: %f'% evaluator.evaluate(ajuste_dtc_treino, {evaluator.metricName:'precisionByLabel', evaluator.metricLabel:1}))\n",
        "print('Recall: %f'% evaluator.evaluate(ajuste_dtc_treino, {evaluator.metricName:'recallByLabel', evaluator.metricLabel:1}))\n",
        "print('F1: %f'% evaluator.evaluate(ajuste_dtc_treino, {evaluator.metricName:'fMeasureByLabel', evaluator.metricLabel:1}))"
      ],
      "metadata": {
        "colab": {
          "base_uri": "https://localhost:8080/"
        },
        "id": "Q24y2zkYicEQ",
        "outputId": "61878983-8672-4f44-c688-03daa3b9ae2c"
      },
      "execution_count": 75,
      "outputs": [
        {
          "output_type": "stream",
          "name": "stdout",
          "text": [
            "Acuracia: 0.815432\n",
            "Precisão: 0.789702\n",
            "Recall: 0.859839\n",
            "F1: 0.823279\n"
          ]
        }
      ]
    },
    {
      "cell_type": "code",
      "source": [
        "# Teste\n",
        "\n",
        "print('Acuracia: %f'% evaluator.evaluate(ajuste_dtc_teste, {evaluator.metricName:'accuracy'}))\n",
        "print('Precisão: %f'% evaluator.evaluate(ajuste_dtc_teste, {evaluator.metricName:'precisionByLabel', evaluator.metricLabel:1}))\n",
        "print('Recall: %f'% evaluator.evaluate(ajuste_dtc_teste, {evaluator.metricName:'recallByLabel', evaluator.metricLabel:1}))\n",
        "print('F1: %f'% evaluator.evaluate(ajuste_dtc_teste, {evaluator.metricName:'fMeasureByLabel', evaluator.metricLabel:1}))"
      ],
      "metadata": {
        "colab": {
          "base_uri": "https://localhost:8080/"
        },
        "id": "RL2MsZNoiZmg",
        "outputId": "2e335ba7-323e-4fc4-b08a-c541c1802471"
      },
      "execution_count": 76,
      "outputs": [
        {
          "output_type": "stream",
          "name": "stdout",
          "text": [
            "Acuracia: 0.781668\n",
            "Precisão: 0.761370\n",
            "Recall: 0.820496\n",
            "F1: 0.789828\n"
          ]
        }
      ]
    },
    {
      "cell_type": "code",
      "source": [
        "# matriz de confusão treino\n",
        "\n",
        "tp1 = ajuste_dtc_treino.select('label','prediction').where((f.col('label')==1)&(f.col('prediction')==1)).count()\n",
        "tn1 = ajuste_dtc_treino.select('label','prediction').where((f.col('label')==0)&(f.col('prediction')==0)).count()\n",
        "fp1 = ajuste_dtc_treino.select('label','prediction').where((f.col('label')==1)&(f.col('prediction')==0)).count()\n",
        "fn1 = ajuste_dtc_treino.select('label','prediction').where((f.col('label')==0)&(f.col('prediction')==1)).count()\n",
        "\n",
        "print(tp1, tn1, fp1, fn1)"
      ],
      "metadata": {
        "colab": {
          "base_uri": "https://localhost:8080/"
        },
        "id": "2Fb0PpsKkXcn",
        "outputId": "b4c875e6-e566-40d4-c242-bdf1cdb6583e"
      },
      "execution_count": 77,
      "outputs": [
        {
          "output_type": "stream",
          "name": "stdout",
          "text": [
            "3098 2778 505 825\n"
          ]
        }
      ]
    },
    {
      "cell_type": "code",
      "source": [
        "# matriz de confusão teste\n",
        "\n",
        "tp1 = ajuste_dtc_teste.select('label','prediction').where((f.col('label')==1)&(f.col('prediction')==1)).count()\n",
        "tn1 = ajuste_dtc_teste.select('label','prediction').where((f.col('label')==0)&(f.col('prediction')==0)).count()\n",
        "fp1 = ajuste_dtc_teste.select('label','prediction').where((f.col('label')==1)&(f.col('prediction')==0)).count()\n",
        "fn1 = ajuste_dtc_teste.select('label','prediction').where((f.col('label')==0)&(f.col('prediction')==1)).count()\n",
        "\n",
        "print(tp1, tn1, fp1, fn1)"
      ],
      "metadata": {
        "colab": {
          "base_uri": "https://localhost:8080/"
        },
        "id": "uz0BUrO3k5UM",
        "outputId": "2035b209-49c8-462b-8af8-9858e0388009"
      },
      "execution_count": 78,
      "outputs": [
        {
          "output_type": "stream",
          "name": "stdout",
          "text": [
            "1289 1167 282 404\n"
          ]
        }
      ]
    },
    {
      "cell_type": "markdown",
      "source": [
        "**Ajustando Métricas com a Função Criada**"
      ],
      "metadata": {
        "id": "yh409Y5jiPg6"
      }
    },
    {
      "cell_type": "code",
      "source": [
        "print(comprar_metricas({'Árvore de Decisão Treino':ajuste_dtc_treino,\n",
        "                        'Árvore de Decisão Teste':ajuste_dtc_teste}))"
      ],
      "metadata": {
        "colab": {
          "base_uri": "https://localhost:8080/"
        },
        "id": "gfuMp6gPhnl8",
        "outputId": "47c322ca-a339-4132-dfcb-1b5cc90d541a"
      },
      "execution_count": 66,
      "outputs": [
        {
          "output_type": "stream",
          "name": "stdout",
          "text": [
            "\n",
            "--------------------------------------------------\n",
            "Árvore de Decisão Treino\n",
            "Acurácia: 0.8154315847904524\n",
            "Precisão: 0.7897017588580169\n",
            "Recall: 0.8598390230363586\n",
            "F1: 0.823279298432102\n",
            "                    Previsto\n",
            "               Churn     Não-Churn\n",
            "    Churn      3098       505\n",
            "Real\n",
            "    Não-Churn  825       2778\n",
            "\n",
            "--------------------------------------------------\n",
            "Árvore de Decisão Teste\n",
            "Acurácia: 0.7816677275620624\n",
            "Precisão: 0.761370348493798\n",
            "Recall: 0.8204964990451942\n",
            "F1: 0.7898284313725491\n",
            "                    Previsto\n",
            "               Churn     Não-Churn\n",
            "    Churn      1289       282\n",
            "Real\n",
            "    Não-Churn  404       1167\n",
            "\n",
            "\n"
          ]
        }
      ]
    },
    {
      "cell_type": "markdown",
      "source": [
        "Explicando a previsão:\n",
        "\n",
        "O modelo de Árvore de decisão teste, preveu que 1289 foram previsto como Churn e realmente eram Churn, ao lado foram previstos que 282 não-Churn mas eram Churn.\n",
        "\n",
        "Abaixo temos um total de 404 que foram previsto como não-Churn mas na verdade eram Churn, e 1167 como não-Churn e realmente não eram.\n",
        "\n",
        "Em resumo, nosso modelo errou em 282 e 404."
      ],
      "metadata": {
        "id": "3SqE6ms8lCuc"
      }
    },
    {
      "cell_type": "markdown",
      "source": [
        "## **Random Forest**"
      ],
      "metadata": {
        "id": "jB1C00Guo02U"
      }
    },
    {
      "cell_type": "code",
      "source": [
        "from pyspark.ml.classification import RandomForestClassifier"
      ],
      "metadata": {
        "id": "IR37u3TFo3pE"
      },
      "execution_count": 81,
      "outputs": []
    },
    {
      "cell_type": "code",
      "source": [
        "rfc = RandomForestClassifier(seed=101, maxDepth=7, numTrees=10)"
      ],
      "metadata": {
        "id": "QWDBwQw8pBrc"
      },
      "execution_count": 82,
      "outputs": []
    },
    {
      "cell_type": "code",
      "source": [
        "modelo_rfc = rfc.fit(treino)"
      ],
      "metadata": {
        "id": "dVqCFoRopJQV"
      },
      "execution_count": 83,
      "outputs": []
    },
    {
      "cell_type": "code",
      "source": [
        "ajuste_rfc_treino = modelo_rfc.transform(treino)\n",
        "\n",
        "ajuste_rfc_treino.show()"
      ],
      "metadata": {
        "colab": {
          "base_uri": "https://localhost:8080/"
        },
        "id": "8lbugHUJpMME",
        "outputId": "ad42715c-63ce-43a4-e09f-ab6461354e46"
      },
      "execution_count": 86,
      "outputs": [
        {
          "output_type": "stream",
          "name": "stdout",
          "text": [
            "+--------------------+-----+--------------------+--------------------+----------+\n",
            "|            features|label|       rawPrediction|         probability|prediction|\n",
            "+--------------------+-----+--------------------+--------------------+----------+\n",
            "|(24,[0,1,2,3,4,5,...|    0|[8.28318068651483...|[0.82831806865148...|       0.0|\n",
            "|(24,[0,1,2,3,4,5,...|    0|[8.60220234699535...|[0.86022023469953...|       0.0|\n",
            "|(24,[0,1,2,3,4,5,...|    0|[6.16541610558594...|[0.61654161055859...|       0.0|\n",
            "|(24,[0,1,2,3,4,5,...|    0|[6.87509352494078...|[0.68750935249407...|       0.0|\n",
            "|(24,[0,1,2,3,4,5,...|    0|[6.38855502300594...|[0.63885550230059...|       0.0|\n",
            "|(24,[0,1,2,3,4,5,...|    1|[2.88780576205113...|[0.28878057620511...|       1.0|\n",
            "|(24,[0,1,2,3,4,5,...|    0|[3.66768768449392...|[0.36676876844939...|       1.0|\n",
            "|(24,[0,1,2,3,4,5,...|    1|[2.37647312200955...|[0.23764731220095...|       1.0|\n",
            "|(24,[0,1,2,3,4,5,...|    0|[2.37647312200955...|[0.23764731220095...|       1.0|\n",
            "|(24,[0,1,2,3,4,5,...|    0|[1.72724662704172...|[0.17272466270417...|       1.0|\n",
            "|(24,[0,1,2,3,4,5,...|    0|[5.64305350594302...|[0.56430535059430...|       0.0|\n",
            "|(24,[0,1,2,3,4,5,...|    0|[6.45194699919518...|[0.64519469991951...|       0.0|\n",
            "|(24,[0,1,2,3,4,5,...|    1|[3.31889895118748...|[0.33188989511874...|       1.0|\n",
            "|(24,[0,1,2,3,4,5,...|    0|[8.42887119054127...|[0.84288711905412...|       0.0|\n",
            "|(24,[0,1,2,3,4,5,...|    0|[4.56252359034686...|[0.45625235903468...|       1.0|\n",
            "|(24,[0,1,2,3,4,5,...|    0|[1.51691986713241...|[0.15169198671324...|       1.0|\n",
            "|(24,[0,1,2,3,4,5,...|    0|[8.16681925867802...|[0.81668192586780...|       0.0|\n",
            "|(24,[0,1,2,3,4,5,...|    0|[2.52773438025006...|[0.25277343802500...|       1.0|\n",
            "|(24,[0,1,2,3,4,5,...|    0|[9.46138278513870...|[0.94613827851387...|       0.0|\n",
            "|(24,[0,1,2,3,4,5,...|    0|[8.27406312279201...|[0.82740631227920...|       0.0|\n",
            "+--------------------+-----+--------------------+--------------------+----------+\n",
            "only showing top 20 rows\n",
            "\n"
          ]
        }
      ]
    },
    {
      "cell_type": "code",
      "source": [
        "ajuste_rfc_teste = modelo_rfc.transform(teste)\n",
        "\n",
        "ajuste_rfc_teste.show()"
      ],
      "metadata": {
        "colab": {
          "base_uri": "https://localhost:8080/"
        },
        "id": "PZmxrIuvpTOk",
        "outputId": "b27e49a5-a816-45fa-caa8-40f602ef6e4a"
      },
      "execution_count": 87,
      "outputs": [
        {
          "output_type": "stream",
          "name": "stdout",
          "text": [
            "+--------------------+-----+--------------------+--------------------+----------+\n",
            "|            features|label|       rawPrediction|         probability|prediction|\n",
            "+--------------------+-----+--------------------+--------------------+----------+\n",
            "|(24,[0,1,2,3,4,5,...|    0|[8.26331345810646...|[0.82633134581064...|       0.0|\n",
            "|(24,[0,1,2,3,4,5,...|    0|[4.23030553230402...|[0.42303055323040...|       1.0|\n",
            "|(24,[0,1,2,3,4,5,...|    1|[3.35049409101441...|[0.33504940910144...|       1.0|\n",
            "|(24,[0,1,2,3,4,5,...|    0|[1.85018095045766...|[0.18501809504576...|       1.0|\n",
            "|(24,[0,1,2,3,4,5,...|    0|[3.19442270215773...|[0.31944227021577...|       1.0|\n",
            "|(24,[0,1,2,3,4,5,...|    0|[2.39790244747695...|[0.23979024474769...|       1.0|\n",
            "|(24,[0,1,2,3,4,5,...|    1|[3.37840862897067...|[0.33784086289706...|       1.0|\n",
            "|(24,[0,1,2,3,4,5,...|    0|[4.63053906310899...|[0.46305390631089...|       1.0|\n",
            "|(24,[0,1,2,3,4,5,...|    0|[5.74012620093250...|[0.57401262009325...|       0.0|\n",
            "|(24,[0,1,2,3,4,5,...|    0|[7.54554480952488...|[0.75455448095248...|       0.0|\n",
            "|(24,[0,1,2,3,4,5,...|    1|[2.07786603641416...|[0.20778660364141...|       1.0|\n",
            "|(24,[0,1,2,3,4,5,...|    1|[1.53143777744479...|[0.15314377774447...|       1.0|\n",
            "|(24,[0,1,2,3,4,5,...|    0|[9.29778274950979...|[0.92977827495097...|       0.0|\n",
            "|(24,[0,1,2,3,4,8,...|    0|[6.93741399176274...|[0.69374139917627...|       0.0|\n",
            "|(24,[0,1,2,3,4,8,...|    0|[8.58293893013533...|[0.85829389301353...|       0.0|\n",
            "|(24,[0,1,2,3,4,8,...|    0|[8.80075777289291...|[0.88007577728929...|       0.0|\n",
            "|(24,[0,1,2,3,5,6,...|    0|[9.10104805810262...|[0.91010480581026...|       0.0|\n",
            "|(24,[0,1,2,3,5,6,...|    0|[8.20365240066315...|[0.82036524006631...|       0.0|\n",
            "|(24,[0,1,2,3,5,6,...|    0|[6.60216874994897...|[0.66021687499489...|       0.0|\n",
            "|(24,[0,1,2,3,5,6,...|    0|[7.39381955258140...|[0.73938195525814...|       0.0|\n",
            "+--------------------+-----+--------------------+--------------------+----------+\n",
            "only showing top 20 rows\n",
            "\n"
          ]
        }
      ]
    },
    {
      "cell_type": "markdown",
      "source": [
        "**Ajustanto Métricas Manualmente**"
      ],
      "metadata": {
        "id": "Xlgt5psCpjE4"
      }
    },
    {
      "cell_type": "code",
      "source": [
        "# Treino\n",
        "\n",
        "print('Acuracia: %f'% evaluator.evaluate(ajuste_rfc_treino, {evaluator.metricName:'accuracy'}))\n",
        "print('Precisão: %f'% evaluator.evaluate(ajuste_rfc_treino, {evaluator.metricName:'precisionByLabel', evaluator.metricLabel:1}))\n",
        "print('Recall: %f'% evaluator.evaluate(ajuste_rfc_treino, {evaluator.metricName:'recallByLabel', evaluator.metricLabel:1}))\n",
        "print('F1: %f'% evaluator.evaluate(ajuste_rfc_treino, {evaluator.metricName:'fMeasureByLabel', evaluator.metricLabel:1}))"
      ],
      "metadata": {
        "colab": {
          "base_uri": "https://localhost:8080/"
        },
        "id": "f5877McnpoRq",
        "outputId": "0e18b814-8e00-47ad-f7af-139be1ae3f0f"
      },
      "execution_count": 89,
      "outputs": [
        {
          "output_type": "stream",
          "name": "stdout",
          "text": [
            "Acuracia: 0.811130\n",
            "Precisão: 0.789814\n",
            "Recall: 0.847905\n",
            "F1: 0.817829\n"
          ]
        }
      ]
    },
    {
      "cell_type": "code",
      "source": [
        "# Teste\n",
        "\n",
        "print('Acuracia: %f'% evaluator.evaluate(ajuste_rfc_teste, {evaluator.metricName:'accuracy'}))\n",
        "print('Precisão: %f'% evaluator.evaluate(ajuste_rfc_teste, {evaluator.metricName:'precisionByLabel', evaluator.metricLabel:1}))\n",
        "print('Recall: %f'% evaluator.evaluate(ajuste_rfc_teste, {evaluator.metricName:'recallByLabel', evaluator.metricLabel:1}))\n",
        "print('F1: %f'% evaluator.evaluate(ajuste_rfc_teste, {evaluator.metricName:'fMeasureByLabel', evaluator.metricLabel:1}))"
      ],
      "metadata": {
        "colab": {
          "base_uri": "https://localhost:8080/"
        },
        "id": "uVwBo6nypXg-",
        "outputId": "0fe5f2da-c39f-4913-a17d-3f2eb8b34d11"
      },
      "execution_count": 90,
      "outputs": [
        {
          "output_type": "stream",
          "name": "stdout",
          "text": [
            "Acuracia: 0.796626\n",
            "Precisão: 0.775414\n",
            "Recall: 0.835137\n",
            "F1: 0.804168\n"
          ]
        }
      ]
    },
    {
      "cell_type": "code",
      "source": [
        "# matriz de confusão treino\n",
        "\n",
        "tp3 = ajuste_rfc_treino.select('label','prediction').where((f.col('label')==1)&(f.col('prediction')==1)).count()\n",
        "tn3 = ajuste_rfc_treino.select('label','prediction').where((f.col('label')==0)&(f.col('prediction')==0)).count()\n",
        "fp3 = ajuste_rfc_treino.select('label','prediction').where((f.col('label')==1)&(f.col('prediction')==0)).count()\n",
        "fn3 = ajuste_rfc_treino.select('label','prediction').where((f.col('label')==0)&(f.col('prediction')==1)).count()\n",
        "\n",
        "print(tp3, tn3, fp3, fn3)"
      ],
      "metadata": {
        "colab": {
          "base_uri": "https://localhost:8080/"
        },
        "id": "5tkNakapp1jW",
        "outputId": "5e1371d0-6aa1-4e8e-b927-1e72cc0668cf"
      },
      "execution_count": 91,
      "outputs": [
        {
          "output_type": "stream",
          "name": "stdout",
          "text": [
            "3055 2790 548 813\n"
          ]
        }
      ]
    },
    {
      "cell_type": "code",
      "source": [
        "# matriz de confusão teste\n",
        "\n",
        "tp4 = ajuste_rfc_teste.select('label','prediction').where((f.col('label')==1)&(f.col('prediction')==1)).count()\n",
        "tn4 = ajuste_rfc_teste.select('label','prediction').where((f.col('label')==0)&(f.col('prediction')==0)).count()\n",
        "fp4 = ajuste_rfc_teste.select('label','prediction').where((f.col('label')==1)&(f.col('prediction')==0)).count()\n",
        "fn4 = ajuste_rfc_teste.select('label','prediction').where((f.col('label')==0)&(f.col('prediction')==1)).count()\n",
        "\n",
        "print(tp4, tn4, fp4, fn4)"
      ],
      "metadata": {
        "colab": {
          "base_uri": "https://localhost:8080/"
        },
        "id": "usItpcbGp-22",
        "outputId": "558cbbf4-1fa0-4992-a427-0c5729438074"
      },
      "execution_count": 92,
      "outputs": [
        {
          "output_type": "stream",
          "name": "stdout",
          "text": [
            "1312 1191 259 380\n"
          ]
        }
      ]
    },
    {
      "cell_type": "markdown",
      "source": [
        "**Ajustando Métricas com a Função Criada**"
      ],
      "metadata": {
        "id": "Yxurnv3oqHy8"
      }
    },
    {
      "cell_type": "code",
      "source": [
        "print(comprar_metricas({'Random Forest Treino':ajuste_rfc_treino,\n",
        "                        'Random Forest Teste':ajuste_rfc_teste}))"
      ],
      "metadata": {
        "colab": {
          "base_uri": "https://localhost:8080/"
        },
        "id": "Q9TeYZ3GqIvz",
        "outputId": "1831a7c0-ddd8-4c63-9f49-f18c9ce42638"
      },
      "execution_count": 93,
      "outputs": [
        {
          "output_type": "stream",
          "name": "stdout",
          "text": [
            "\n",
            "--------------------------------------------------\n",
            "Random Forest Treino\n",
            "Acurácia: 0.8111296142103802\n",
            "Precisão: 0.7898138572905895\n",
            "Recall: 0.8479045240077713\n",
            "F1: 0.8178289385624413\n",
            "                    Previsto\n",
            "               Churn     Não-Churn\n",
            "    Churn      3055       548\n",
            "Real\n",
            "    Não-Churn  813       2790\n",
            "\n",
            "--------------------------------------------------\n",
            "Random Forest Teste\n",
            "Acurácia: 0.7966263526416295\n",
            "Precisão: 0.7754137115839244\n",
            "Recall: 0.8351368555060471\n",
            "F1: 0.8041679436101747\n",
            "                    Previsto\n",
            "               Churn     Não-Churn\n",
            "    Churn      1312       259\n",
            "Real\n",
            "    Não-Churn  380       1191\n",
            "\n",
            "\n"
          ]
        }
      ]
    },
    {
      "cell_type": "markdown",
      "source": [
        "Explicando a previsão:\n",
        "\n",
        "O modelo de Árvore de decisão teste, preveu que 1312 foram previsto como Churn e realmente eram Churn, ao lado foram previstos que 259 não-Churn mas eram Churn.\n",
        "\n",
        "Abaixo temos um total de 380 que foram previsto como não-Churn mas na verdade eram Churn, e 1191 como não-Churn e realmente não eram.\n",
        "\n",
        "Em resumo, nosso modelo errou em 259 e 380."
      ],
      "metadata": {
        "id": "9Bng117FqXqB"
      }
    },
    {
      "cell_type": "markdown",
      "source": [
        "##**Comparando Árvore de Decisão e Random Forest**"
      ],
      "metadata": {
        "id": "IXE2SjvssunM"
      }
    },
    {
      "cell_type": "code",
      "source": [
        "print(comprar_metricas({'Árvore de Decisão Teste':ajuste_dtc_teste,\n",
        "                        'Random Forest Teste':ajuste_rfc_teste}))"
      ],
      "metadata": {
        "colab": {
          "base_uri": "https://localhost:8080/"
        },
        "id": "yLwrwcvcs0Ld",
        "outputId": "c5ee443e-b48f-49b1-f72e-a4d4d79ab5c9"
      },
      "execution_count": 94,
      "outputs": [
        {
          "output_type": "stream",
          "name": "stdout",
          "text": [
            "\n",
            "--------------------------------------------------\n",
            "Árvore de Decisão Teste\n",
            "Acurácia: 0.7816677275620624\n",
            "Precisão: 0.761370348493798\n",
            "Recall: 0.8204964990451942\n",
            "F1: 0.7898284313725491\n",
            "                    Previsto\n",
            "               Churn     Não-Churn\n",
            "    Churn      1289       282\n",
            "Real\n",
            "    Não-Churn  404       1167\n",
            "\n",
            "--------------------------------------------------\n",
            "Random Forest Teste\n",
            "Acurácia: 0.7966263526416295\n",
            "Precisão: 0.7754137115839244\n",
            "Recall: 0.8351368555060471\n",
            "F1: 0.8041679436101747\n",
            "                    Previsto\n",
            "               Churn     Não-Churn\n",
            "    Churn      1312       259\n",
            "Real\n",
            "    Não-Churn  380       1191\n",
            "\n",
            "\n"
          ]
        }
      ]
    },
    {
      "cell_type": "markdown",
      "source": [
        "Ao analisar o os dois modelos, percebe-se que o random forest está melhor do que o modelo de árvore de decisão."
      ],
      "metadata": {
        "id": "D1jkLq6btL3V"
      }
    },
    {
      "cell_type": "markdown",
      "source": [
        "##**Otimizando Modelos**"
      ],
      "metadata": {
        "id": "B14RXU-OtkQH"
      }
    },
    {
      "cell_type": "markdown",
      "source": [
        "###**Árvore de Decisão**"
      ],
      "metadata": {
        "id": "evS6qAdhtteT"
      }
    },
    {
      "cell_type": "code",
      "source": [
        "from pyspark.ml.classification import DecisionTreeClassifier\n",
        "from pyspark.ml.tuning import CrossValidator, ParamGridBuilder\n",
        "from pyspark.ml.evaluation import MulticlassClassificationEvaluator"
      ],
      "metadata": {
        "id": "w9BmQkSRtxji"
      },
      "execution_count": 95,
      "outputs": []
    },
    {
      "cell_type": "code",
      "source": [
        "dtc = DecisionTreeClassifier()"
      ],
      "metadata": {
        "id": "i9ZqSKs_uB0f"
      },
      "execution_count": 96,
      "outputs": []
    },
    {
      "cell_type": "code",
      "source": [
        "grid = ParamGridBuilder()\\\n",
        "      .addGrid(dtc.maxDepth,[2,5,10])\\\n",
        "      .addGrid(dtc.maxBins,[10,32,45])\\\n",
        "      .build()"
      ],
      "metadata": {
        "id": "pEOm2eM6uEkb"
      },
      "execution_count": 97,
      "outputs": []
    },
    {
      "cell_type": "code",
      "source": [
        "evaluator = MulticlassClassificationEvaluator()"
      ],
      "metadata": {
        "id": "MgKCH5hfuTQ5"
      },
      "execution_count": 98,
      "outputs": []
    },
    {
      "cell_type": "code",
      "source": [
        "dtc_cv = CrossValidator(\n",
        "    estimator=dtc,\n",
        "    estimatorParamMaps=grid,\n",
        "    evaluator = evaluator,\n",
        "    numFolds=3,\n",
        "    seed=101\n",
        ")"
      ],
      "metadata": {
        "id": "X1MB7BMnuVpZ"
      },
      "execution_count": 99,
      "outputs": []
    },
    {
      "cell_type": "markdown",
      "source": [
        "**Ajustando Métricas**"
      ],
      "metadata": {
        "id": "iJmYqoFtutfp"
      }
    },
    {
      "cell_type": "code",
      "source": [
        "modelo_dtc_cv = dtc_cv.fit(treino)"
      ],
      "metadata": {
        "id": "aUMh1MANuh92"
      },
      "execution_count": 100,
      "outputs": []
    },
    {
      "cell_type": "code",
      "source": [
        "ajuste_dtc_cv = modelo_dtc_cv.transform(teste)\n",
        "\n",
        "ajuste_dtc_cv.show()"
      ],
      "metadata": {
        "colab": {
          "base_uri": "https://localhost:8080/"
        },
        "id": "ARTat4faul3r",
        "outputId": "a47c1b92-85f1-46e6-adb9-d745cbee8d22"
      },
      "execution_count": 103,
      "outputs": [
        {
          "output_type": "stream",
          "name": "stdout",
          "text": [
            "+--------------------+-----+-------------+--------------------+----------+\n",
            "|            features|label|rawPrediction|         probability|prediction|\n",
            "+--------------------+-----+-------------+--------------------+----------+\n",
            "|(24,[0,1,2,3,4,5,...|    0|   [13.0,1.0]|[0.92857142857142...|       0.0|\n",
            "|(24,[0,1,2,3,4,5,...|    0|  [45.0,76.0]|[0.37190082644628...|       1.0|\n",
            "|(24,[0,1,2,3,4,5,...|    1|  [49.0,83.0]|[0.37121212121212...|       1.0|\n",
            "|(24,[0,1,2,3,4,5,...|    0| [35.0,328.0]|[0.09641873278236...|       1.0|\n",
            "|(24,[0,1,2,3,4,5,...|    0|  [50.0,39.0]|[0.56179775280898...|       0.0|\n",
            "|(24,[0,1,2,3,4,5,...|    0|    [4.0,0.0]|           [1.0,0.0]|       0.0|\n",
            "|(24,[0,1,2,3,4,5,...|    1|  [49.0,83.0]|[0.37121212121212...|       1.0|\n",
            "|(24,[0,1,2,3,4,5,...|    0|  [49.0,83.0]|[0.37121212121212...|       1.0|\n",
            "|(24,[0,1,2,3,4,5,...|    0|   [24.0,2.0]|[0.92307692307692...|       0.0|\n",
            "|(24,[0,1,2,3,4,5,...|    0|   [56.0,0.0]|           [1.0,0.0]|       0.0|\n",
            "|(24,[0,1,2,3,4,5,...|    1|    [6.0,4.0]|           [0.6,0.4]|       0.0|\n",
            "|(24,[0,1,2,3,4,5,...|    1|  [6.0,132.0]|[0.04347826086956...|       1.0|\n",
            "|(24,[0,1,2,3,4,5,...|    0|  [157.0,1.0]|[0.99367088607594...|       0.0|\n",
            "|(24,[0,1,2,3,4,8,...|    0|    [3.0,1.0]|         [0.75,0.25]|       0.0|\n",
            "|(24,[0,1,2,3,4,8,...|    0|    [9.0,0.0]|           [1.0,0.0]|       0.0|\n",
            "|(24,[0,1,2,3,4,8,...|    0| [192.0,16.0]|[0.92307692307692...|       0.0|\n",
            "|(24,[0,1,2,3,5,6,...|    0|   [24.0,0.0]|           [1.0,0.0]|       0.0|\n",
            "|(24,[0,1,2,3,5,6,...|    0|  [101.0,3.0]|[0.97115384615384...|       0.0|\n",
            "|(24,[0,1,2,3,5,6,...|    0|    [7.0,0.0]|           [1.0,0.0]|       0.0|\n",
            "|(24,[0,1,2,3,5,6,...|    0|    [4.0,0.0]|           [1.0,0.0]|       0.0|\n",
            "+--------------------+-----+-------------+--------------------+----------+\n",
            "only showing top 20 rows\n",
            "\n"
          ]
        }
      ]
    },
    {
      "cell_type": "code",
      "source": [
        "print('Acurácia: %f'% evaluator.evaluate(ajuste_dtc_cv, {evaluator.metricName:'accuracy'}))\n",
        "print('Precisão: %f'% evaluator.evaluate(ajuste_dtc_cv, {evaluator.metricName:'precisionByLabel', evaluator.metricLabel:1}))\n",
        "print('Recall: %f'% evaluator.evaluate(ajuste_dtc_cv, {evaluator.metricName:'recallByLabel', evaluator.metricLabel:1}))\n",
        "print('F1: %f'% evaluator.evaluate(ajuste_dtc_cv, {evaluator.metricName:'fMeasureByLabel', evaluator.metricLabel:1}))"
      ],
      "metadata": {
        "colab": {
          "base_uri": "https://localhost:8080/"
        },
        "id": "a9NxI5rZuscn",
        "outputId": "bbf1d99c-bee3-4b12-fc91-a7542561cc50"
      },
      "execution_count": 104,
      "outputs": [
        {
          "output_type": "stream",
          "name": "stdout",
          "text": [
            "Acurácia: 0.787715\n",
            "Precisão: 0.772618\n",
            "Recall: 0.815404\n",
            "F1: 0.793434\n"
          ]
        }
      ]
    },
    {
      "cell_type": "code",
      "source": [
        "tp = ajuste_dtc_cv.select('label','prediction').where((f.col('label')==1)&(f.col('prediction')==1)).count()\n",
        "tn = ajuste_dtc_cv.select('label','prediction').where((f.col('label')==0)&(f.col('prediction')==0)).count()\n",
        "fp = ajuste_dtc_cv.select('label','prediction').where((f.col('label')==1)&(f.col('prediction')==0)).count()\n",
        "fn = ajuste_dtc_cv.select('label','prediction').where((f.col('label')==0)&(f.col('prediction')==1)).count()\n",
        "\n",
        "print(tp, tn, fp, fn)"
      ],
      "metadata": {
        "colab": {
          "base_uri": "https://localhost:8080/"
        },
        "id": "AcJgkTIdvW1D",
        "outputId": "d846828f-1e4a-452f-8610-4c799404f040"
      },
      "execution_count": 105,
      "outputs": [
        {
          "output_type": "stream",
          "name": "stdout",
          "text": [
            "1281 1194 290 377\n"
          ]
        }
      ]
    },
    {
      "cell_type": "markdown",
      "source": [
        "**Comparando métricas com a função criada**\n",
        "\n",
        "Comparando metrica da Árvore de Decisão sem otimizar e com otimização"
      ],
      "metadata": {
        "id": "6tnYqPJ2wJOm"
      }
    },
    {
      "cell_type": "code",
      "source": [
        "print(comprar_metricas({'Árvore de Decisão Sem Otimização':ajuste_dtc_teste,\n",
        "                        'Árvore de Decisão Com Otimização':ajuste_dtc_cv}))"
      ],
      "metadata": {
        "colab": {
          "base_uri": "https://localhost:8080/"
        },
        "id": "ak4d4EG9tm1S",
        "outputId": "0db965a5-077f-4867-c4d3-203c25178e75"
      },
      "execution_count": 107,
      "outputs": [
        {
          "output_type": "stream",
          "name": "stdout",
          "text": [
            "\n",
            "--------------------------------------------------\n",
            "Árvore de Decisão Sem Otimização\n",
            "Acurácia: 0.7816677275620624\n",
            "Precisão: 0.761370348493798\n",
            "Recall: 0.8204964990451942\n",
            "F1: 0.7898284313725491\n",
            "                    Previsto\n",
            "               Churn     Não-Churn\n",
            "    Churn      1289       282\n",
            "Real\n",
            "    Não-Churn  404       1167\n",
            "\n",
            "--------------------------------------------------\n",
            "Árvore de Decisão Com Otimização\n",
            "Acurácia: 0.7877148313176321\n",
            "Precisão: 0.7726176115802171\n",
            "Recall: 0.8154042011457671\n",
            "F1: 0.7934344998451532\n",
            "                    Previsto\n",
            "               Churn     Não-Churn\n",
            "    Churn      1281       290\n",
            "Real\n",
            "    Não-Churn  377       1194\n",
            "\n",
            "\n"
          ]
        }
      ]
    },
    {
      "cell_type": "markdown",
      "source": [
        "###**Random Forest**"
      ],
      "metadata": {
        "id": "xjQ2r-ojxPqH"
      }
    },
    {
      "cell_type": "code",
      "source": [
        "from pyspark.ml.classification import RandomForestClassifier"
      ],
      "metadata": {
        "id": "Iw-ECmwWxR8h"
      },
      "execution_count": 108,
      "outputs": []
    },
    {
      "cell_type": "code",
      "source": [
        "rfc = RandomForestClassifier()"
      ],
      "metadata": {
        "id": "mET8oMQcxV1B"
      },
      "execution_count": 109,
      "outputs": []
    },
    {
      "cell_type": "code",
      "source": [
        "grid = ParamGridBuilder()\\\n",
        "      .addGrid(rfc.maxDepth,[2,5,10])\\\n",
        "      .addGrid(rfc.maxBins,[10,32,45])\\\n",
        "      .addGrid(rfc.numTrees,[10,20,50])\\\n",
        "      .build()"
      ],
      "metadata": {
        "id": "Vyy1AXMrxZgR"
      },
      "execution_count": 110,
      "outputs": []
    },
    {
      "cell_type": "code",
      "source": [
        "evaluator = MulticlassClassificationEvaluator()"
      ],
      "metadata": {
        "id": "f0FLZCBYxqI8"
      },
      "execution_count": 111,
      "outputs": []
    },
    {
      "cell_type": "code",
      "source": [
        "rfc_cv = CrossValidator(\n",
        "    estimator = rfc,\n",
        "    estimatorParamMaps=grid,\n",
        "    evaluator = evaluator,\n",
        "    numFolds=3,\n",
        "    seed=101\n",
        ")"
      ],
      "metadata": {
        "id": "bMOjxI1HxtM8"
      },
      "execution_count": 112,
      "outputs": []
    },
    {
      "cell_type": "markdown",
      "source": [
        "**Ajustando Métricas**"
      ],
      "metadata": {
        "id": "m6Oo9DNjyFR2"
      }
    },
    {
      "cell_type": "code",
      "source": [
        "modelo_rfc_cv = rfc_cv.fit(treino)"
      ],
      "metadata": {
        "id": "3yVEhp0kx5DL"
      },
      "execution_count": 113,
      "outputs": []
    },
    {
      "cell_type": "code",
      "source": [
        "ajuste_rfc_cv = modelo_rfc_cv.transform(teste)"
      ],
      "metadata": {
        "id": "r8ZkpNKjx9bk"
      },
      "execution_count": 115,
      "outputs": []
    },
    {
      "cell_type": "code",
      "source": [
        "print('Acurácia: %f'% evaluator.evaluate(ajuste_rfc_cv, {evaluator.metricName:'accuracy'}))\n",
        "print('Precisão: %f'% evaluator.evaluate(ajuste_rfc_cv, {evaluator.metricName:'precisionByLabel', evaluator.metricLabel:1}))\n",
        "print('Recall: %f'% evaluator.evaluate(ajuste_rfc_cv, {evaluator.metricName:'recallByLabel', evaluator.metricLabel:1}))\n",
        "print('F1: %f'% evaluator.evaluate(ajuste_rfc_cv, {evaluator.metricName:'fMeasureByLabel', evaluator.metricLabel:1}))"
      ],
      "metadata": {
        "colab": {
          "base_uri": "https://localhost:8080/"
        },
        "id": "KFhjSAeNyCKk",
        "outputId": "fbc06984-d95b-4885-8141-636bc2837aa8"
      },
      "execution_count": 116,
      "outputs": [
        {
          "output_type": "stream",
          "name": "stdout",
          "text": [
            "Acurácia: 0.809039\n",
            "Precisão: 0.790197\n",
            "Recall: 0.841502\n",
            "F1: 0.815043\n"
          ]
        }
      ]
    },
    {
      "cell_type": "code",
      "source": [
        "tp = ajuste_rfc_cv.select('label','prediction').where((f.col('label')==1)&(f.col('prediction')==1)).count()\n",
        "tn = ajuste_rfc_cv.select('label','prediction').where((f.col('label')==0)&(f.col('prediction')==0)).count()\n",
        "fp = ajuste_rfc_cv.select('label','prediction').where((f.col('label')==1)&(f.col('prediction')==0)).count()\n",
        "fn = ajuste_rfc_cv.select('label','prediction').where((f.col('label')==0)&(f.col('prediction')==1)).count()\n",
        "\n",
        "print(tp, tn, fp, fn)"
      ],
      "metadata": {
        "colab": {
          "base_uri": "https://localhost:8080/"
        },
        "id": "Ns_w_ZUQtZN2",
        "outputId": "5842ba81-9564-4090-fca9-8d5e60d3ba5d"
      },
      "execution_count": 117,
      "outputs": [
        {
          "output_type": "stream",
          "name": "stdout",
          "text": [
            "1322 1220 249 351\n"
          ]
        }
      ]
    },
    {
      "cell_type": "code",
      "source": [
        "print(comprar_metricas({'Random Forest Sem Otimização':ajuste_rfc_teste,\n",
        "                        'Random Forest Com Otimização':ajuste_rfc_cv}))"
      ],
      "metadata": {
        "colab": {
          "base_uri": "https://localhost:8080/"
        },
        "id": "TuFnmi6ZyWPn",
        "outputId": "3937502d-351d-4f2a-eacc-c074a26f9228"
      },
      "execution_count": 118,
      "outputs": [
        {
          "output_type": "stream",
          "name": "stdout",
          "text": [
            "\n",
            "--------------------------------------------------\n",
            "Random Forest Sem Otimização\n",
            "Acurácia: 0.7966263526416295\n",
            "Precisão: 0.7754137115839244\n",
            "Recall: 0.8351368555060471\n",
            "F1: 0.8041679436101747\n",
            "                    Previsto\n",
            "               Churn     Não-Churn\n",
            "    Churn      1312       259\n",
            "Real\n",
            "    Não-Churn  380       1191\n",
            "\n",
            "--------------------------------------------------\n",
            "Random Forest Com Otimização\n",
            "Acurácia: 0.8090388287714831\n",
            "Precisão: 0.7901972504482965\n",
            "Recall: 0.841502227880331\n",
            "F1: 0.815043156596794\n",
            "                    Previsto\n",
            "               Churn     Não-Churn\n",
            "    Churn      1322       249\n",
            "Real\n",
            "    Não-Churn  351       1220\n",
            "\n",
            "\n"
          ]
        }
      ]
    },
    {
      "cell_type": "markdown",
      "source": [
        "##**Escolhendo o melhor modelo otimizado**"
      ],
      "metadata": {
        "id": "j-z52xPSyi0L"
      }
    },
    {
      "cell_type": "code",
      "source": [
        "print(comprar_metricas({'Árvore de Decisão Com Otimização':ajuste_dtc_cv,\n",
        "                        'Random Forest Com Otimização':ajuste_rfc_cv}))"
      ],
      "metadata": {
        "colab": {
          "base_uri": "https://localhost:8080/"
        },
        "id": "uxMDhY6gym_Q",
        "outputId": "d9916cc9-492a-457c-d98c-7868a88d7510"
      },
      "execution_count": 119,
      "outputs": [
        {
          "output_type": "stream",
          "name": "stdout",
          "text": [
            "\n",
            "--------------------------------------------------\n",
            "Árvore de Decisão Com Otimização\n",
            "Acurácia: 0.7877148313176321\n",
            "Precisão: 0.7726176115802171\n",
            "Recall: 0.8154042011457671\n",
            "F1: 0.7934344998451532\n",
            "                    Previsto\n",
            "               Churn     Não-Churn\n",
            "    Churn      1281       290\n",
            "Real\n",
            "    Não-Churn  377       1194\n",
            "\n",
            "--------------------------------------------------\n",
            "Random Forest Com Otimização\n",
            "Acurácia: 0.8090388287714831\n",
            "Precisão: 0.7901972504482965\n",
            "Recall: 0.841502227880331\n",
            "F1: 0.815043156596794\n",
            "                    Previsto\n",
            "               Churn     Não-Churn\n",
            "    Churn      1322       249\n",
            "Real\n",
            "    Não-Churn  351       1220\n",
            "\n",
            "\n"
          ]
        }
      ]
    },
    {
      "cell_type": "markdown",
      "source": [
        "O melhor modelo escolhido é o Random Forest, pois os resultados mostrados estão melhores do que a Arvore de Decisão.\n",
        "\n",
        "Um cientista de dados não serve somente para rodar modelos, é necessário entender o que realmente o departamento quer, nesse caso ele quer saber se o cliete vai cancelar o serviço ou não.\n",
        "\n",
        "Então tudo vai depender para qual modelo, metrico a gente vai olhar.\n",
        "\n",
        "A proposta é criar um modelo para prever se um cliente vai se tornar Churn ou não a partir de dados histórico, utilizando pyspark.\n"
      ],
      "metadata": {
        "id": "Qu7UtL4zzUyF"
      }
    },
    {
      "cell_type": "markdown",
      "source": [
        "##**Treinando o Modelo Escolhido**"
      ],
      "metadata": {
        "id": "iQym13UI0ehJ"
      }
    },
    {
      "cell_type": "code",
      "source": [
        "melhor_modelo_rfc_cv = modelo_rfc_cv.bestModel"
      ],
      "metadata": {
        "id": "bdgoloI30iFf"
      },
      "execution_count": 120,
      "outputs": []
    },
    {
      "cell_type": "code",
      "source": [
        "# explorando quais são os melhores parametros do random forest\n",
        "\n",
        "print(melhor_modelo_rfc_cv.getMaxDepth())\n",
        "print(melhor_modelo_rfc_cv.getMaxBins())\n",
        "print(melhor_modelo_rfc_cv.getNumTrees)"
      ],
      "metadata": {
        "colab": {
          "base_uri": "https://localhost:8080/"
        },
        "id": "3wX0fgnS0qMv",
        "outputId": "0113ad52-c772-4936-cb45-d1924bd36022"
      },
      "execution_count": 124,
      "outputs": [
        {
          "output_type": "stream",
          "name": "stdout",
          "text": [
            "10\n",
            "45\n",
            "50\n"
          ]
        }
      ]
    },
    {
      "cell_type": "code",
      "source": [
        "rfc_melhor = RandomForestClassifier(seed=101, maxDepth=10, maxBins=45, numTrees=50)"
      ],
      "metadata": {
        "id": "73yUAsJU1Qqc"
      },
      "execution_count": 125,
      "outputs": []
    },
    {
      "cell_type": "code",
      "source": [
        "melhor_rfc = rfc_melhor.fit(dataset_prep)"
      ],
      "metadata": {
        "id": "0ciJOvvg1ayG"
      },
      "execution_count": 126,
      "outputs": []
    },
    {
      "cell_type": "code",
      "source": [
        "X"
      ],
      "metadata": {
        "colab": {
          "base_uri": "https://localhost:8080/"
        },
        "id": "yBPAYOAA1n8C",
        "outputId": "74197d63-35f4-4dc1-cf4c-120840752ea0"
      },
      "execution_count": 127,
      "outputs": [
        {
          "output_type": "execute_result",
          "data": {
            "text/plain": [
              "['Mais65anos',\n",
              " 'MesesDeContrato',\n",
              " 'MesesCobrados',\n",
              " 'Conjuge',\n",
              " 'Dependentes',\n",
              " 'TelefoneFixo',\n",
              " 'MaisDeUmaLinhaTelefonica',\n",
              " 'SegurancaOnline',\n",
              " 'BackupOnline',\n",
              " 'SeguroDispositivo',\n",
              " 'SuporteTecnico',\n",
              " 'TVaCabo',\n",
              " 'StreamingFilmes',\n",
              " 'ContaCorreio',\n",
              " 'Internet_DSL',\n",
              " 'Internet_FibraOptica',\n",
              " 'Internet_Nao',\n",
              " 'TipoContrato_DoisAnos',\n",
              " 'TipoContrato_Mensalmente',\n",
              " 'TipoContrato_UmAno',\n",
              " 'MetodoPagamento_Boleto',\n",
              " 'MetodoPagamento_BoletoEletronico',\n",
              " 'MetodoPagamento_CartaoCredito',\n",
              " 'MetodoPagamento_DebitoEmConta']"
            ]
          },
          "metadata": {},
          "execution_count": 127
        }
      ]
    },
    {
      "cell_type": "code",
      "source": [
        "novo_cliente = [{\n",
        " 'Mais65anos':0,\n",
        " 'MesesDeContrato':1,\n",
        " 'MesesCobrados':45.30450797610398,\n",
        " 'Conjuge':0,\n",
        " 'Dependentes':0,\n",
        " 'TelefoneFixo':0,\n",
        " 'MaisDeUmaLinhaTelefonica':0,\n",
        " 'SegurancaOnline':0,\n",
        " 'BackupOnline':0,\n",
        " 'SeguroDispositivo':0,\n",
        " 'SuporteTecnico':0,\n",
        " 'TVaCabo':1,\n",
        " 'StreamingFilmes':1,\n",
        " 'ContaCorreio':1,\n",
        " 'Internet_DSL':1,\n",
        " 'Internet_FibraOptica':1,\n",
        " 'Internet_Nao':0,\n",
        " 'TipoContrato_DoisAnos':0,\n",
        " 'TipoContrato_Mensalmente':1,\n",
        " 'TipoContrato_UmAno':0,\n",
        " 'MetodoPagamento_Boleto':0,\n",
        " 'MetodoPagamento_BoletoEletronico':1,\n",
        " 'MetodoPagamento_CartaoCredito':0,\n",
        " 'MetodoPagamento_DebitoEmConta':0\n",
        "}]"
      ],
      "metadata": {
        "id": "1_e2XHDF1kj2"
      },
      "execution_count": 128,
      "outputs": []
    },
    {
      "cell_type": "code",
      "source": [
        "novo_cliente = spark.createDataFrame(novo_cliente)\n",
        "\n",
        "novo_cliente.show()"
      ],
      "metadata": {
        "colab": {
          "base_uri": "https://localhost:8080/"
        },
        "id": "ut38x9Nj2Ggd",
        "outputId": "95a3e8be-4d96-4b89-fb73-d3aa447722be"
      },
      "execution_count": 129,
      "outputs": [
        {
          "output_type": "stream",
          "name": "stdout",
          "text": [
            "+------------+-------+------------+-----------+------------+--------------------+------------+----------+------------------------+-----------------+---------------+----------------------+--------------------------------+-----------------------------+-----------------------------+---------------+-----------------+---------------+--------------+-------+------------+---------------------+------------------------+------------------+\n",
            "|BackupOnline|Conjuge|ContaCorreio|Dependentes|Internet_DSL|Internet_FibraOptica|Internet_Nao|Mais65anos|MaisDeUmaLinhaTelefonica|    MesesCobrados|MesesDeContrato|MetodoPagamento_Boleto|MetodoPagamento_BoletoEletronico|MetodoPagamento_CartaoCredito|MetodoPagamento_DebitoEmConta|SegurancaOnline|SeguroDispositivo|StreamingFilmes|SuporteTecnico|TVaCabo|TelefoneFixo|TipoContrato_DoisAnos|TipoContrato_Mensalmente|TipoContrato_UmAno|\n",
            "+------------+-------+------------+-----------+------------+--------------------+------------+----------+------------------------+-----------------+---------------+----------------------+--------------------------------+-----------------------------+-----------------------------+---------------+-----------------+---------------+--------------+-------+------------+---------------------+------------------------+------------------+\n",
            "|           0|      0|           1|          0|           1|                   1|           0|         0|                       0|45.30450797610398|              1|                     0|                               1|                            0|                            0|              0|                0|              1|             0|      1|           0|                    0|                       1|                 0|\n",
            "+------------+-------+------------+-----------+------------+--------------------+------------+----------+------------------------+-----------------+---------------+----------------------+--------------------------------+-----------------------------+-----------------------------+---------------+-----------------+---------------+--------------+-------+------------+---------------------+------------------------+------------------+\n",
            "\n"
          ]
        }
      ]
    },
    {
      "cell_type": "code",
      "source": [
        "assembler = VectorAssembler(inputCols=X, outputCol='features')"
      ],
      "metadata": {
        "id": "ZAccaDtR2NEs"
      },
      "execution_count": 131,
      "outputs": []
    },
    {
      "cell_type": "code",
      "source": [
        "novo_cliente_prep = assembler.transform(novo_cliente).select('features')"
      ],
      "metadata": {
        "id": "5VzqNNie2Ygb"
      },
      "execution_count": 134,
      "outputs": []
    },
    {
      "cell_type": "code",
      "source": [
        "novo_cliente_prep.show(truncate=False)"
      ],
      "metadata": {
        "colab": {
          "base_uri": "https://localhost:8080/"
        },
        "id": "JfmG8BU12gpL",
        "outputId": "3e125e92-676e-4d1a-b096-3a913eb98ba7"
      },
      "execution_count": 135,
      "outputs": [
        {
          "output_type": "stream",
          "name": "stdout",
          "text": [
            "+-----------------------------------------------------------------------------------+\n",
            "|features                                                                           |\n",
            "+-----------------------------------------------------------------------------------+\n",
            "|(24,[1,2,11,12,13,14,15,18,21],[1.0,45.30450797610398,1.0,1.0,1.0,1.0,1.0,1.0,1.0])|\n",
            "+-----------------------------------------------------------------------------------+\n",
            "\n"
          ]
        }
      ]
    },
    {
      "cell_type": "code",
      "source": [
        "melhor_rfc.transform(novo_cliente_prep).show()"
      ],
      "metadata": {
        "colab": {
          "base_uri": "https://localhost:8080/"
        },
        "id": "CbhT8NF92j9p",
        "outputId": "29fa41ee-e80b-49d1-d912-2723446cad74"
      },
      "execution_count": 136,
      "outputs": [
        {
          "output_type": "stream",
          "name": "stdout",
          "text": [
            "+--------------------+--------------------+--------------------+----------+\n",
            "|            features|       rawPrediction|         probability|prediction|\n",
            "+--------------------+--------------------+--------------------+----------+\n",
            "|(24,[1,2,11,12,13...|[4.49925020579483...|[0.08998500411589...|       1.0|\n",
            "+--------------------+--------------------+--------------------+----------+\n",
            "\n"
          ]
        }
      ]
    },
    {
      "cell_type": "markdown",
      "source": [
        "De acordo com o melhor modelo escolhido, o qual foi Random Forest Otimizado, o novo cliente vai estar cancelando o plano."
      ],
      "metadata": {
        "id": "Gp-AjoMy2xW6"
      }
    }
  ]
}